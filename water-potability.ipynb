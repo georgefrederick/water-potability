{
 "cells": [
  {
   "cell_type": "code",
   "execution_count": 1,
   "metadata": {},
   "outputs": [
    {
     "name": "stderr",
     "output_type": "stream",
     "text": [
      "/opt/anaconda2/envs/py365/lib/python3.6/site-packages/sklearn/ensemble/weight_boosting.py:29: DeprecationWarning: numpy.core.umath_tests is an internal NumPy module and should not be imported. It will be removed in a future NumPy release.\n",
      "  from numpy.core.umath_tests import inner1d\n"
     ]
    }
   ],
   "source": [
    "import numpy as np\n",
    "import pandas as pd\n",
    "from sklearn.preprocessing import StandardScaler\n",
    "from sklearn.model_selection import train_test_split, cross_val_score, GridSearchCV\n",
    "from sklearn.linear_model import LogisticRegression\n",
    "from sklearn.ensemble import RandomForestClassifier, GradientBoostingClassifier\n",
    "from sklearn.neighbors import KNeighborsClassifier\n",
    "from sklearn.neural_network import MLPClassifier\n",
    "from sklearn.svm import SVC\n",
    "from sklearn.neural_network import MLPClassifier\n",
    "from sklearn.metrics import accuracy_score, precision_score, recall_score\n",
    "import joblib\n",
    "from sklearn.metrics import accuracy_score, precision_score, recall_score\n",
    "import seaborn as sns"
   ]
  },
  {
   "cell_type": "code",
   "execution_count": 2,
   "metadata": {
    "collapsed": true
   },
   "outputs": [],
   "source": [
    "df = pd.read_csv('water_potability.csv')"
   ]
  },
  {
   "cell_type": "code",
   "execution_count": 3,
   "metadata": {},
   "outputs": [
    {
     "data": {
      "text/html": [
       "<div>\n",
       "<style scoped>\n",
       "    .dataframe tbody tr th:only-of-type {\n",
       "        vertical-align: middle;\n",
       "    }\n",
       "\n",
       "    .dataframe tbody tr th {\n",
       "        vertical-align: top;\n",
       "    }\n",
       "\n",
       "    .dataframe thead th {\n",
       "        text-align: right;\n",
       "    }\n",
       "</style>\n",
       "<table border=\"1\" class=\"dataframe\">\n",
       "  <thead>\n",
       "    <tr style=\"text-align: right;\">\n",
       "      <th></th>\n",
       "      <th>ph</th>\n",
       "      <th>Hardness</th>\n",
       "      <th>Solids</th>\n",
       "      <th>Chloramines</th>\n",
       "      <th>Sulfate</th>\n",
       "      <th>Conductivity</th>\n",
       "      <th>Organic_carbon</th>\n",
       "      <th>Trihalomethanes</th>\n",
       "      <th>Turbidity</th>\n",
       "      <th>Potability</th>\n",
       "    </tr>\n",
       "  </thead>\n",
       "  <tbody>\n",
       "    <tr>\n",
       "      <th>count</th>\n",
       "      <td>2785.000000</td>\n",
       "      <td>3276.000000</td>\n",
       "      <td>3276.000000</td>\n",
       "      <td>3276.000000</td>\n",
       "      <td>2495.000000</td>\n",
       "      <td>3276.000000</td>\n",
       "      <td>3276.000000</td>\n",
       "      <td>3114.000000</td>\n",
       "      <td>3276.000000</td>\n",
       "      <td>3276.000000</td>\n",
       "    </tr>\n",
       "    <tr>\n",
       "      <th>mean</th>\n",
       "      <td>7.080795</td>\n",
       "      <td>196.369496</td>\n",
       "      <td>22014.092526</td>\n",
       "      <td>7.122277</td>\n",
       "      <td>333.775777</td>\n",
       "      <td>426.205111</td>\n",
       "      <td>14.284970</td>\n",
       "      <td>66.396293</td>\n",
       "      <td>3.966786</td>\n",
       "      <td>0.390110</td>\n",
       "    </tr>\n",
       "    <tr>\n",
       "      <th>std</th>\n",
       "      <td>1.594320</td>\n",
       "      <td>32.879761</td>\n",
       "      <td>8768.570828</td>\n",
       "      <td>1.583085</td>\n",
       "      <td>41.416840</td>\n",
       "      <td>80.824064</td>\n",
       "      <td>3.308162</td>\n",
       "      <td>16.175008</td>\n",
       "      <td>0.780382</td>\n",
       "      <td>0.487849</td>\n",
       "    </tr>\n",
       "    <tr>\n",
       "      <th>min</th>\n",
       "      <td>0.000000</td>\n",
       "      <td>47.432000</td>\n",
       "      <td>320.942611</td>\n",
       "      <td>0.352000</td>\n",
       "      <td>129.000000</td>\n",
       "      <td>181.483754</td>\n",
       "      <td>2.200000</td>\n",
       "      <td>0.738000</td>\n",
       "      <td>1.450000</td>\n",
       "      <td>0.000000</td>\n",
       "    </tr>\n",
       "    <tr>\n",
       "      <th>25%</th>\n",
       "      <td>6.093092</td>\n",
       "      <td>176.850538</td>\n",
       "      <td>15666.690297</td>\n",
       "      <td>6.127421</td>\n",
       "      <td>307.699498</td>\n",
       "      <td>365.734414</td>\n",
       "      <td>12.065801</td>\n",
       "      <td>55.844536</td>\n",
       "      <td>3.439711</td>\n",
       "      <td>0.000000</td>\n",
       "    </tr>\n",
       "    <tr>\n",
       "      <th>50%</th>\n",
       "      <td>7.036752</td>\n",
       "      <td>196.967627</td>\n",
       "      <td>20927.833607</td>\n",
       "      <td>7.130299</td>\n",
       "      <td>333.073546</td>\n",
       "      <td>421.884968</td>\n",
       "      <td>14.218338</td>\n",
       "      <td>66.622485</td>\n",
       "      <td>3.955028</td>\n",
       "      <td>0.000000</td>\n",
       "    </tr>\n",
       "    <tr>\n",
       "      <th>75%</th>\n",
       "      <td>8.062066</td>\n",
       "      <td>216.667456</td>\n",
       "      <td>27332.762127</td>\n",
       "      <td>8.114887</td>\n",
       "      <td>359.950170</td>\n",
       "      <td>481.792304</td>\n",
       "      <td>16.557652</td>\n",
       "      <td>77.337473</td>\n",
       "      <td>4.500320</td>\n",
       "      <td>1.000000</td>\n",
       "    </tr>\n",
       "    <tr>\n",
       "      <th>max</th>\n",
       "      <td>14.000000</td>\n",
       "      <td>323.124000</td>\n",
       "      <td>61227.196008</td>\n",
       "      <td>13.127000</td>\n",
       "      <td>481.030642</td>\n",
       "      <td>753.342620</td>\n",
       "      <td>28.300000</td>\n",
       "      <td>124.000000</td>\n",
       "      <td>6.739000</td>\n",
       "      <td>1.000000</td>\n",
       "    </tr>\n",
       "  </tbody>\n",
       "</table>\n",
       "</div>"
      ],
      "text/plain": [
       "                ph     Hardness        Solids  Chloramines      Sulfate  \\\n",
       "count  2785.000000  3276.000000   3276.000000  3276.000000  2495.000000   \n",
       "mean      7.080795   196.369496  22014.092526     7.122277   333.775777   \n",
       "std       1.594320    32.879761   8768.570828     1.583085    41.416840   \n",
       "min       0.000000    47.432000    320.942611     0.352000   129.000000   \n",
       "25%       6.093092   176.850538  15666.690297     6.127421   307.699498   \n",
       "50%       7.036752   196.967627  20927.833607     7.130299   333.073546   \n",
       "75%       8.062066   216.667456  27332.762127     8.114887   359.950170   \n",
       "max      14.000000   323.124000  61227.196008    13.127000   481.030642   \n",
       "\n",
       "       Conductivity  Organic_carbon  Trihalomethanes    Turbidity   Potability  \n",
       "count   3276.000000     3276.000000      3114.000000  3276.000000  3276.000000  \n",
       "mean     426.205111       14.284970        66.396293     3.966786     0.390110  \n",
       "std       80.824064        3.308162        16.175008     0.780382     0.487849  \n",
       "min      181.483754        2.200000         0.738000     1.450000     0.000000  \n",
       "25%      365.734414       12.065801        55.844536     3.439711     0.000000  \n",
       "50%      421.884968       14.218338        66.622485     3.955028     0.000000  \n",
       "75%      481.792304       16.557652        77.337473     4.500320     1.000000  \n",
       "max      753.342620       28.300000       124.000000     6.739000     1.000000  "
      ]
     },
     "execution_count": 3,
     "metadata": {},
     "output_type": "execute_result"
    }
   ],
   "source": [
    "df.describe()"
   ]
  },
  {
   "cell_type": "code",
   "execution_count": 4,
   "metadata": {},
   "outputs": [
    {
     "data": {
      "text/html": [
       "<div>\n",
       "<style scoped>\n",
       "    .dataframe tbody tr th:only-of-type {\n",
       "        vertical-align: middle;\n",
       "    }\n",
       "\n",
       "    .dataframe tbody tr th {\n",
       "        vertical-align: top;\n",
       "    }\n",
       "\n",
       "    .dataframe thead th {\n",
       "        text-align: right;\n",
       "    }\n",
       "</style>\n",
       "<table border=\"1\" class=\"dataframe\">\n",
       "  <thead>\n",
       "    <tr style=\"text-align: right;\">\n",
       "      <th></th>\n",
       "      <th>ph</th>\n",
       "      <th>Hardness</th>\n",
       "      <th>Solids</th>\n",
       "      <th>Chloramines</th>\n",
       "      <th>Sulfate</th>\n",
       "      <th>Conductivity</th>\n",
       "      <th>Organic_carbon</th>\n",
       "      <th>Trihalomethanes</th>\n",
       "      <th>Turbidity</th>\n",
       "      <th>Potability</th>\n",
       "    </tr>\n",
       "  </thead>\n",
       "  <tbody>\n",
       "    <tr>\n",
       "      <th>0</th>\n",
       "      <td>NaN</td>\n",
       "      <td>204.890455</td>\n",
       "      <td>20791.318981</td>\n",
       "      <td>7.300212</td>\n",
       "      <td>368.516441</td>\n",
       "      <td>564.308654</td>\n",
       "      <td>10.379783</td>\n",
       "      <td>86.990970</td>\n",
       "      <td>2.963135</td>\n",
       "      <td>0</td>\n",
       "    </tr>\n",
       "    <tr>\n",
       "      <th>1</th>\n",
       "      <td>3.716080</td>\n",
       "      <td>129.422921</td>\n",
       "      <td>18630.057858</td>\n",
       "      <td>6.635246</td>\n",
       "      <td>NaN</td>\n",
       "      <td>592.885359</td>\n",
       "      <td>15.180013</td>\n",
       "      <td>56.329076</td>\n",
       "      <td>4.500656</td>\n",
       "      <td>0</td>\n",
       "    </tr>\n",
       "    <tr>\n",
       "      <th>2</th>\n",
       "      <td>8.099124</td>\n",
       "      <td>224.236259</td>\n",
       "      <td>19909.541732</td>\n",
       "      <td>9.275884</td>\n",
       "      <td>NaN</td>\n",
       "      <td>418.606213</td>\n",
       "      <td>16.868637</td>\n",
       "      <td>66.420093</td>\n",
       "      <td>3.055934</td>\n",
       "      <td>0</td>\n",
       "    </tr>\n",
       "    <tr>\n",
       "      <th>3</th>\n",
       "      <td>8.316766</td>\n",
       "      <td>214.373394</td>\n",
       "      <td>22018.417441</td>\n",
       "      <td>8.059332</td>\n",
       "      <td>356.886136</td>\n",
       "      <td>363.266516</td>\n",
       "      <td>18.436524</td>\n",
       "      <td>100.341674</td>\n",
       "      <td>4.628771</td>\n",
       "      <td>0</td>\n",
       "    </tr>\n",
       "    <tr>\n",
       "      <th>4</th>\n",
       "      <td>9.092223</td>\n",
       "      <td>181.101509</td>\n",
       "      <td>17978.986339</td>\n",
       "      <td>6.546600</td>\n",
       "      <td>310.135738</td>\n",
       "      <td>398.410813</td>\n",
       "      <td>11.558279</td>\n",
       "      <td>31.997993</td>\n",
       "      <td>4.075075</td>\n",
       "      <td>0</td>\n",
       "    </tr>\n",
       "  </tbody>\n",
       "</table>\n",
       "</div>"
      ],
      "text/plain": [
       "         ph    Hardness        Solids  Chloramines     Sulfate  Conductivity  \\\n",
       "0       NaN  204.890455  20791.318981     7.300212  368.516441    564.308654   \n",
       "1  3.716080  129.422921  18630.057858     6.635246         NaN    592.885359   \n",
       "2  8.099124  224.236259  19909.541732     9.275884         NaN    418.606213   \n",
       "3  8.316766  214.373394  22018.417441     8.059332  356.886136    363.266516   \n",
       "4  9.092223  181.101509  17978.986339     6.546600  310.135738    398.410813   \n",
       "\n",
       "   Organic_carbon  Trihalomethanes  Turbidity  Potability  \n",
       "0       10.379783        86.990970   2.963135           0  \n",
       "1       15.180013        56.329076   4.500656           0  \n",
       "2       16.868637        66.420093   3.055934           0  \n",
       "3       18.436524       100.341674   4.628771           0  \n",
       "4       11.558279        31.997993   4.075075           0  "
      ]
     },
     "execution_count": 4,
     "metadata": {},
     "output_type": "execute_result"
    }
   ],
   "source": [
    "df.head()"
   ]
  },
  {
   "cell_type": "code",
   "execution_count": 5,
   "metadata": {},
   "outputs": [
    {
     "data": {
      "text/plain": [
       "ph                 491\n",
       "Hardness             0\n",
       "Solids               0\n",
       "Chloramines          0\n",
       "Sulfate            781\n",
       "Conductivity         0\n",
       "Organic_carbon       0\n",
       "Trihalomethanes    162\n",
       "Turbidity            0\n",
       "Potability           0\n",
       "dtype: int64"
      ]
     },
     "execution_count": 5,
     "metadata": {},
     "output_type": "execute_result"
    }
   ],
   "source": [
    "df.isnull().sum()"
   ]
  },
  {
   "cell_type": "code",
   "execution_count": 6,
   "metadata": {
    "collapsed": true
   },
   "outputs": [],
   "source": [
    "df['ph'].fillna(df['ph'].mean(), inplace = True)\n",
    "df['Sulfate'].fillna(df['Sulfate'].median(), inplace = True)\n",
    "df['Trihalomethanes'].fillna(df['Trihalomethanes'].mean(), inplace = True)"
   ]
  },
  {
   "cell_type": "code",
   "execution_count": 7,
   "metadata": {},
   "outputs": [
    {
     "data": {
      "text/plain": [
       "ph                 0\n",
       "Hardness           0\n",
       "Solids             0\n",
       "Chloramines        0\n",
       "Sulfate            0\n",
       "Conductivity       0\n",
       "Organic_carbon     0\n",
       "Trihalomethanes    0\n",
       "Turbidity          0\n",
       "Potability         0\n",
       "dtype: int64"
      ]
     },
     "execution_count": 7,
     "metadata": {},
     "output_type": "execute_result"
    }
   ],
   "source": [
    "df.isnull().sum()"
   ]
  },
  {
   "cell_type": "code",
   "execution_count": 8,
   "metadata": {
    "collapsed": true
   },
   "outputs": [],
   "source": [
    "predictors = df.drop('Potability',axis=1)\n",
    "y = df['Potability'].values"
   ]
  },
  {
   "cell_type": "code",
   "execution_count": 9,
   "metadata": {},
   "outputs": [
    {
     "data": {
      "text/html": [
       "<div>\n",
       "<style scoped>\n",
       "    .dataframe tbody tr th:only-of-type {\n",
       "        vertical-align: middle;\n",
       "    }\n",
       "\n",
       "    .dataframe tbody tr th {\n",
       "        vertical-align: top;\n",
       "    }\n",
       "\n",
       "    .dataframe thead th {\n",
       "        text-align: right;\n",
       "    }\n",
       "</style>\n",
       "<table border=\"1\" class=\"dataframe\">\n",
       "  <thead>\n",
       "    <tr style=\"text-align: right;\">\n",
       "      <th></th>\n",
       "      <th>ph</th>\n",
       "      <th>Hardness</th>\n",
       "      <th>Solids</th>\n",
       "      <th>Chloramines</th>\n",
       "      <th>Sulfate</th>\n",
       "      <th>Conductivity</th>\n",
       "      <th>Organic_carbon</th>\n",
       "      <th>Trihalomethanes</th>\n",
       "      <th>Turbidity</th>\n",
       "    </tr>\n",
       "  </thead>\n",
       "  <tbody>\n",
       "    <tr>\n",
       "      <th>0</th>\n",
       "      <td>7.080795</td>\n",
       "      <td>204.890455</td>\n",
       "      <td>20791.318981</td>\n",
       "      <td>7.300212</td>\n",
       "      <td>368.516441</td>\n",
       "      <td>564.308654</td>\n",
       "      <td>10.379783</td>\n",
       "      <td>86.990970</td>\n",
       "      <td>2.963135</td>\n",
       "    </tr>\n",
       "    <tr>\n",
       "      <th>1</th>\n",
       "      <td>3.716080</td>\n",
       "      <td>129.422921</td>\n",
       "      <td>18630.057858</td>\n",
       "      <td>6.635246</td>\n",
       "      <td>333.073546</td>\n",
       "      <td>592.885359</td>\n",
       "      <td>15.180013</td>\n",
       "      <td>56.329076</td>\n",
       "      <td>4.500656</td>\n",
       "    </tr>\n",
       "    <tr>\n",
       "      <th>2</th>\n",
       "      <td>8.099124</td>\n",
       "      <td>224.236259</td>\n",
       "      <td>19909.541732</td>\n",
       "      <td>9.275884</td>\n",
       "      <td>333.073546</td>\n",
       "      <td>418.606213</td>\n",
       "      <td>16.868637</td>\n",
       "      <td>66.420093</td>\n",
       "      <td>3.055934</td>\n",
       "    </tr>\n",
       "    <tr>\n",
       "      <th>3</th>\n",
       "      <td>8.316766</td>\n",
       "      <td>214.373394</td>\n",
       "      <td>22018.417441</td>\n",
       "      <td>8.059332</td>\n",
       "      <td>356.886136</td>\n",
       "      <td>363.266516</td>\n",
       "      <td>18.436524</td>\n",
       "      <td>100.341674</td>\n",
       "      <td>4.628771</td>\n",
       "    </tr>\n",
       "    <tr>\n",
       "      <th>4</th>\n",
       "      <td>9.092223</td>\n",
       "      <td>181.101509</td>\n",
       "      <td>17978.986339</td>\n",
       "      <td>6.546600</td>\n",
       "      <td>310.135738</td>\n",
       "      <td>398.410813</td>\n",
       "      <td>11.558279</td>\n",
       "      <td>31.997993</td>\n",
       "      <td>4.075075</td>\n",
       "    </tr>\n",
       "  </tbody>\n",
       "</table>\n",
       "</div>"
      ],
      "text/plain": [
       "         ph    Hardness        Solids  Chloramines     Sulfate  Conductivity  \\\n",
       "0  7.080795  204.890455  20791.318981     7.300212  368.516441    564.308654   \n",
       "1  3.716080  129.422921  18630.057858     6.635246  333.073546    592.885359   \n",
       "2  8.099124  224.236259  19909.541732     9.275884  333.073546    418.606213   \n",
       "3  8.316766  214.373394  22018.417441     8.059332  356.886136    363.266516   \n",
       "4  9.092223  181.101509  17978.986339     6.546600  310.135738    398.410813   \n",
       "\n",
       "   Organic_carbon  Trihalomethanes  Turbidity  \n",
       "0       10.379783        86.990970   2.963135  \n",
       "1       15.180013        56.329076   4.500656  \n",
       "2       16.868637        66.420093   3.055934  \n",
       "3       18.436524       100.341674   4.628771  \n",
       "4       11.558279        31.997993   4.075075  "
      ]
     },
     "execution_count": 9,
     "metadata": {},
     "output_type": "execute_result"
    }
   ],
   "source": [
    "predictors.head()"
   ]
  },
  {
   "cell_type": "code",
   "execution_count": 10,
   "metadata": {
    "collapsed": true
   },
   "outputs": [],
   "source": [
    "X_train,X_test,y_train,y_test = train_test_split(predictors,y, random_state =42, test_size = 0.2)\n",
    "\n",
    "scaler = StandardScaler()\n",
    "\n",
    "training = scaler.fit_transform(X_train) \n",
    "testing = scaler.transform(X_test)"
   ]
  },
  {
   "cell_type": "code",
   "execution_count": 11,
   "metadata": {
    "collapsed": true
   },
   "outputs": [],
   "source": [
    "def print_results(results):\n",
    "    print('Best params : {}'.format(results.best_params_))\n",
    "    means = results.cv_results_['mean_test_score']\n",
    "    stds = results.cv_results_['std_test_score']\n",
    "    \n",
    "    for mean, std, params in zip(means, stds, results.cv_results_['params']):\n",
    "        print('{} (+/-{}) for {}'.format(round(mean,3), round(std*2,3), params))"
   ]
  },
  {
   "cell_type": "markdown",
   "metadata": {},
   "source": [
    "# Testing LogsticRegression"
   ]
  },
  {
   "cell_type": "code",
   "execution_count": 12,
   "metadata": {
    "collapsed": true
   },
   "outputs": [],
   "source": [
    "lr = LogisticRegression()"
   ]
  },
  {
   "cell_type": "code",
   "execution_count": 13,
   "metadata": {},
   "outputs": [
    {
     "data": {
      "text/plain": [
       "LogisticRegression(C=1.0, class_weight=None, dual=False, fit_intercept=True,\n",
       "          intercept_scaling=1, max_iter=100, multi_class='ovr', n_jobs=1,\n",
       "          penalty='l2', random_state=None, solver='liblinear', tol=0.0001,\n",
       "          verbose=0, warm_start=False)"
      ]
     },
     "execution_count": 13,
     "metadata": {},
     "output_type": "execute_result"
    }
   ],
   "source": [
    "lr"
   ]
  },
  {
   "cell_type": "code",
   "execution_count": 14,
   "metadata": {
    "collapsed": true
   },
   "outputs": [],
   "source": [
    "params = {'C':[0.001,0.01,0.1,1,10,100],\n",
    "         'penalty':['l1','l2']}"
   ]
  },
  {
   "cell_type": "code",
   "execution_count": 15,
   "metadata": {},
   "outputs": [
    {
     "name": "stdout",
     "output_type": "stream",
     "text": [
      "Best params : {'C': 1, 'penalty': 'l1'}\n",
      "0.605 (+/-0.001) for {'C': 0.001, 'penalty': 'l1'}\n",
      "0.605 (+/-0.003) for {'C': 0.001, 'penalty': 'l2'}\n",
      "0.605 (+/-0.001) for {'C': 0.01, 'penalty': 'l1'}\n",
      "0.605 (+/-0.003) for {'C': 0.01, 'penalty': 'l2'}\n",
      "0.605 (+/-0.001) for {'C': 0.1, 'penalty': 'l1'}\n",
      "0.605 (+/-0.003) for {'C': 0.1, 'penalty': 'l2'}\n",
      "0.606 (+/-0.005) for {'C': 1, 'penalty': 'l1'}\n",
      "0.605 (+/-0.003) for {'C': 1, 'penalty': 'l2'}\n",
      "0.606 (+/-0.003) for {'C': 10, 'penalty': 'l1'}\n",
      "0.605 (+/-0.003) for {'C': 10, 'penalty': 'l2'}\n",
      "0.605 (+/-0.003) for {'C': 100, 'penalty': 'l1'}\n",
      "0.605 (+/-0.003) for {'C': 100, 'penalty': 'l2'}\n"
     ]
    }
   ],
   "source": [
    "lrCV = GridSearchCV(lr,params, cv = 5)\n",
    "print_results(lrCV.fit(training, y_train))"
   ]
  },
  {
   "cell_type": "code",
   "execution_count": 16,
   "metadata": {},
   "outputs": [
    {
     "data": {
      "text/plain": [
       "['./waterpotability_LR.pkl']"
      ]
     },
     "execution_count": 16,
     "metadata": {},
     "output_type": "execute_result"
    }
   ],
   "source": [
    "joblib.dump(lrCV.best_estimator_,'./waterpotability_LR.pkl')"
   ]
  },
  {
   "cell_type": "markdown",
   "metadata": {},
   "source": [
    "# Training RandomForest"
   ]
  },
  {
   "cell_type": "code",
   "execution_count": 17,
   "metadata": {},
   "outputs": [
    {
     "name": "stdout",
     "output_type": "stream",
     "text": [
      "Best params : {'max_depth': 250, 'n_estimators': 200}\n",
      "0.607 (+/-0.023) for {'max_depth': 3, 'n_estimators': 1}\n",
      "0.617 (+/-0.03) for {'max_depth': 3, 'n_estimators': 3}\n",
      "0.613 (+/-0.015) for {'max_depth': 3, 'n_estimators': 5}\n",
      "0.615 (+/-0.007) for {'max_depth': 3, 'n_estimators': 10}\n",
      "0.624 (+/-0.018) for {'max_depth': 3, 'n_estimators': 20}\n",
      "0.625 (+/-0.015) for {'max_depth': 3, 'n_estimators': 30}\n",
      "0.623 (+/-0.008) for {'max_depth': 3, 'n_estimators': 100}\n",
      "0.624 (+/-0.015) for {'max_depth': 3, 'n_estimators': 200}\n",
      "0.594 (+/-0.035) for {'max_depth': 6, 'n_estimators': 1}\n",
      "0.617 (+/-0.026) for {'max_depth': 6, 'n_estimators': 3}\n",
      "0.626 (+/-0.009) for {'max_depth': 6, 'n_estimators': 5}\n",
      "0.642 (+/-0.02) for {'max_depth': 6, 'n_estimators': 10}\n",
      "0.655 (+/-0.018) for {'max_depth': 6, 'n_estimators': 20}\n",
      "0.64 (+/-0.013) for {'max_depth': 6, 'n_estimators': 30}\n",
      "0.643 (+/-0.011) for {'max_depth': 6, 'n_estimators': 100}\n",
      "0.654 (+/-0.026) for {'max_depth': 6, 'n_estimators': 200}\n",
      "0.591 (+/-0.02) for {'max_depth': 9, 'n_estimators': 1}\n",
      "0.623 (+/-0.03) for {'max_depth': 9, 'n_estimators': 3}\n",
      "0.622 (+/-0.029) for {'max_depth': 9, 'n_estimators': 5}\n",
      "0.632 (+/-0.012) for {'max_depth': 9, 'n_estimators': 10}\n",
      "0.651 (+/-0.013) for {'max_depth': 9, 'n_estimators': 20}\n",
      "0.655 (+/-0.023) for {'max_depth': 9, 'n_estimators': 30}\n",
      "0.661 (+/-0.012) for {'max_depth': 9, 'n_estimators': 100}\n",
      "0.66 (+/-0.009) for {'max_depth': 9, 'n_estimators': 200}\n",
      "0.576 (+/-0.051) for {'max_depth': 13, 'n_estimators': 1}\n",
      "0.598 (+/-0.044) for {'max_depth': 13, 'n_estimators': 3}\n",
      "0.608 (+/-0.022) for {'max_depth': 13, 'n_estimators': 5}\n",
      "0.643 (+/-0.013) for {'max_depth': 13, 'n_estimators': 10}\n",
      "0.656 (+/-0.029) for {'max_depth': 13, 'n_estimators': 20}\n",
      "0.647 (+/-0.019) for {'max_depth': 13, 'n_estimators': 30}\n",
      "0.666 (+/-0.026) for {'max_depth': 13, 'n_estimators': 100}\n",
      "0.665 (+/-0.023) for {'max_depth': 13, 'n_estimators': 200}\n",
      "0.572 (+/-0.039) for {'max_depth': 100, 'n_estimators': 1}\n",
      "0.602 (+/-0.031) for {'max_depth': 100, 'n_estimators': 3}\n",
      "0.621 (+/-0.035) for {'max_depth': 100, 'n_estimators': 5}\n",
      "0.639 (+/-0.015) for {'max_depth': 100, 'n_estimators': 10}\n",
      "0.653 (+/-0.026) for {'max_depth': 100, 'n_estimators': 20}\n",
      "0.656 (+/-0.013) for {'max_depth': 100, 'n_estimators': 30}\n",
      "0.662 (+/-0.021) for {'max_depth': 100, 'n_estimators': 100}\n",
      "0.67 (+/-0.018) for {'max_depth': 100, 'n_estimators': 200}\n",
      "0.585 (+/-0.035) for {'max_depth': 250, 'n_estimators': 1}\n",
      "0.59 (+/-0.046) for {'max_depth': 250, 'n_estimators': 3}\n",
      "0.602 (+/-0.028) for {'max_depth': 250, 'n_estimators': 5}\n",
      "0.626 (+/-0.019) for {'max_depth': 250, 'n_estimators': 10}\n",
      "0.637 (+/-0.025) for {'max_depth': 250, 'n_estimators': 20}\n",
      "0.648 (+/-0.039) for {'max_depth': 250, 'n_estimators': 30}\n",
      "0.667 (+/-0.016) for {'max_depth': 250, 'n_estimators': 100}\n",
      "0.676 (+/-0.032) for {'max_depth': 250, 'n_estimators': 200}\n"
     ]
    }
   ],
   "source": [
    "rfC = RandomForestClassifier()\n",
    "params = {\"n_estimators\":[1,3,5,10,20,30,100,200],\n",
    "         \"max_depth\":[3,6,9,13,100,250]}\n",
    "grfC = GridSearchCV(rfC, params,cv=5)\n",
    "print_results(grfC.fit(training,y_train))"
   ]
  },
  {
   "cell_type": "code",
   "execution_count": 18,
   "metadata": {},
   "outputs": [
    {
     "data": {
      "text/plain": [
       "['./waterpotability_RF.pkl']"
      ]
     },
     "execution_count": 18,
     "metadata": {},
     "output_type": "execute_result"
    }
   ],
   "source": [
    "joblib.dump(grfC.best_estimator_,'./waterpotability_RF.pkl')"
   ]
  },
  {
   "cell_type": "markdown",
   "metadata": {},
   "source": [
    "# Training MLP"
   ]
  },
  {
   "cell_type": "code",
   "execution_count": 19,
   "metadata": {
    "collapsed": true
   },
   "outputs": [],
   "source": [
    "mlp = MLPClassifier()"
   ]
  },
  {
   "cell_type": "code",
   "execution_count": 20,
   "metadata": {},
   "outputs": [
    {
     "data": {
      "text/plain": [
       "MLPClassifier(activation='relu', alpha=0.0001, batch_size='auto', beta_1=0.9,\n",
       "       beta_2=0.999, early_stopping=False, epsilon=1e-08,\n",
       "       hidden_layer_sizes=(100,), learning_rate='constant',\n",
       "       learning_rate_init=0.001, max_iter=200, momentum=0.9,\n",
       "       nesterovs_momentum=True, power_t=0.5, random_state=None,\n",
       "       shuffle=True, solver='adam', tol=0.0001, validation_fraction=0.1,\n",
       "       verbose=False, warm_start=False)"
      ]
     },
     "execution_count": 20,
     "metadata": {},
     "output_type": "execute_result"
    }
   ],
   "source": [
    "mlp"
   ]
  },
  {
   "cell_type": "code",
   "execution_count": 21,
   "metadata": {},
   "outputs": [
    {
     "name": "stderr",
     "output_type": "stream",
     "text": [
      "/opt/anaconda2/envs/py365/lib/python3.6/site-packages/sklearn/neural_network/multilayer_perceptron.py:564: ConvergenceWarning: Stochastic Optimizer: Maximum iterations (200) reached and the optimization hasn't converged yet.\n",
      "  % self.max_iter, ConvergenceWarning)\n",
      "/opt/anaconda2/envs/py365/lib/python3.6/site-packages/sklearn/neural_network/multilayer_perceptron.py:564: ConvergenceWarning: Stochastic Optimizer: Maximum iterations (200) reached and the optimization hasn't converged yet.\n",
      "  % self.max_iter, ConvergenceWarning)\n",
      "/opt/anaconda2/envs/py365/lib/python3.6/site-packages/sklearn/neural_network/multilayer_perceptron.py:564: ConvergenceWarning: Stochastic Optimizer: Maximum iterations (200) reached and the optimization hasn't converged yet.\n",
      "  % self.max_iter, ConvergenceWarning)\n",
      "/opt/anaconda2/envs/py365/lib/python3.6/site-packages/sklearn/neural_network/multilayer_perceptron.py:564: ConvergenceWarning: Stochastic Optimizer: Maximum iterations (200) reached and the optimization hasn't converged yet.\n",
      "  % self.max_iter, ConvergenceWarning)\n",
      "/opt/anaconda2/envs/py365/lib/python3.6/site-packages/sklearn/neural_network/multilayer_perceptron.py:564: ConvergenceWarning: Stochastic Optimizer: Maximum iterations (200) reached and the optimization hasn't converged yet.\n",
      "  % self.max_iter, ConvergenceWarning)\n",
      "/opt/anaconda2/envs/py365/lib/python3.6/site-packages/sklearn/neural_network/multilayer_perceptron.py:564: ConvergenceWarning: Stochastic Optimizer: Maximum iterations (200) reached and the optimization hasn't converged yet.\n",
      "  % self.max_iter, ConvergenceWarning)\n",
      "/opt/anaconda2/envs/py365/lib/python3.6/site-packages/sklearn/neural_network/multilayer_perceptron.py:564: ConvergenceWarning: Stochastic Optimizer: Maximum iterations (200) reached and the optimization hasn't converged yet.\n",
      "  % self.max_iter, ConvergenceWarning)\n",
      "/opt/anaconda2/envs/py365/lib/python3.6/site-packages/sklearn/neural_network/multilayer_perceptron.py:564: ConvergenceWarning: Stochastic Optimizer: Maximum iterations (200) reached and the optimization hasn't converged yet.\n",
      "  % self.max_iter, ConvergenceWarning)\n",
      "/opt/anaconda2/envs/py365/lib/python3.6/site-packages/sklearn/neural_network/multilayer_perceptron.py:564: ConvergenceWarning: Stochastic Optimizer: Maximum iterations (200) reached and the optimization hasn't converged yet.\n",
      "  % self.max_iter, ConvergenceWarning)\n",
      "/opt/anaconda2/envs/py365/lib/python3.6/site-packages/sklearn/neural_network/multilayer_perceptron.py:564: ConvergenceWarning: Stochastic Optimizer: Maximum iterations (200) reached and the optimization hasn't converged yet.\n",
      "  % self.max_iter, ConvergenceWarning)\n",
      "/opt/anaconda2/envs/py365/lib/python3.6/site-packages/sklearn/neural_network/multilayer_perceptron.py:564: ConvergenceWarning: Stochastic Optimizer: Maximum iterations (200) reached and the optimization hasn't converged yet.\n",
      "  % self.max_iter, ConvergenceWarning)\n",
      "/opt/anaconda2/envs/py365/lib/python3.6/site-packages/sklearn/neural_network/multilayer_perceptron.py:564: ConvergenceWarning: Stochastic Optimizer: Maximum iterations (200) reached and the optimization hasn't converged yet.\n",
      "  % self.max_iter, ConvergenceWarning)\n",
      "/opt/anaconda2/envs/py365/lib/python3.6/site-packages/sklearn/neural_network/multilayer_perceptron.py:564: ConvergenceWarning: Stochastic Optimizer: Maximum iterations (200) reached and the optimization hasn't converged yet.\n",
      "  % self.max_iter, ConvergenceWarning)\n",
      "/opt/anaconda2/envs/py365/lib/python3.6/site-packages/sklearn/neural_network/multilayer_perceptron.py:564: ConvergenceWarning: Stochastic Optimizer: Maximum iterations (200) reached and the optimization hasn't converged yet.\n",
      "  % self.max_iter, ConvergenceWarning)\n",
      "/opt/anaconda2/envs/py365/lib/python3.6/site-packages/sklearn/neural_network/multilayer_perceptron.py:564: ConvergenceWarning: Stochastic Optimizer: Maximum iterations (200) reached and the optimization hasn't converged yet.\n",
      "  % self.max_iter, ConvergenceWarning)\n",
      "/opt/anaconda2/envs/py365/lib/python3.6/site-packages/sklearn/neural_network/multilayer_perceptron.py:564: ConvergenceWarning: Stochastic Optimizer: Maximum iterations (200) reached and the optimization hasn't converged yet.\n",
      "  % self.max_iter, ConvergenceWarning)\n",
      "/opt/anaconda2/envs/py365/lib/python3.6/site-packages/sklearn/neural_network/multilayer_perceptron.py:564: ConvergenceWarning: Stochastic Optimizer: Maximum iterations (200) reached and the optimization hasn't converged yet.\n",
      "  % self.max_iter, ConvergenceWarning)\n",
      "/opt/anaconda2/envs/py365/lib/python3.6/site-packages/sklearn/neural_network/multilayer_perceptron.py:564: ConvergenceWarning: Stochastic Optimizer: Maximum iterations (200) reached and the optimization hasn't converged yet.\n",
      "  % self.max_iter, ConvergenceWarning)\n",
      "/opt/anaconda2/envs/py365/lib/python3.6/site-packages/sklearn/neural_network/multilayer_perceptron.py:564: ConvergenceWarning: Stochastic Optimizer: Maximum iterations (200) reached and the optimization hasn't converged yet.\n",
      "  % self.max_iter, ConvergenceWarning)\n",
      "/opt/anaconda2/envs/py365/lib/python3.6/site-packages/sklearn/neural_network/multilayer_perceptron.py:564: ConvergenceWarning: Stochastic Optimizer: Maximum iterations (200) reached and the optimization hasn't converged yet.\n",
      "  % self.max_iter, ConvergenceWarning)\n",
      "/opt/anaconda2/envs/py365/lib/python3.6/site-packages/sklearn/neural_network/multilayer_perceptron.py:564: ConvergenceWarning: Stochastic Optimizer: Maximum iterations (200) reached and the optimization hasn't converged yet.\n",
      "  % self.max_iter, ConvergenceWarning)\n",
      "/opt/anaconda2/envs/py365/lib/python3.6/site-packages/sklearn/neural_network/multilayer_perceptron.py:564: ConvergenceWarning: Stochastic Optimizer: Maximum iterations (200) reached and the optimization hasn't converged yet.\n",
      "  % self.max_iter, ConvergenceWarning)\n",
      "/opt/anaconda2/envs/py365/lib/python3.6/site-packages/sklearn/neural_network/multilayer_perceptron.py:564: ConvergenceWarning: Stochastic Optimizer: Maximum iterations (200) reached and the optimization hasn't converged yet.\n",
      "  % self.max_iter, ConvergenceWarning)\n",
      "/opt/anaconda2/envs/py365/lib/python3.6/site-packages/sklearn/neural_network/multilayer_perceptron.py:564: ConvergenceWarning: Stochastic Optimizer: Maximum iterations (200) reached and the optimization hasn't converged yet.\n",
      "  % self.max_iter, ConvergenceWarning)\n",
      "/opt/anaconda2/envs/py365/lib/python3.6/site-packages/sklearn/neural_network/multilayer_perceptron.py:564: ConvergenceWarning: Stochastic Optimizer: Maximum iterations (200) reached and the optimization hasn't converged yet.\n",
      "  % self.max_iter, ConvergenceWarning)\n",
      "/opt/anaconda2/envs/py365/lib/python3.6/site-packages/sklearn/neural_network/multilayer_perceptron.py:564: ConvergenceWarning: Stochastic Optimizer: Maximum iterations (200) reached and the optimization hasn't converged yet.\n",
      "  % self.max_iter, ConvergenceWarning)\n",
      "/opt/anaconda2/envs/py365/lib/python3.6/site-packages/sklearn/neural_network/multilayer_perceptron.py:564: ConvergenceWarning: Stochastic Optimizer: Maximum iterations (200) reached and the optimization hasn't converged yet.\n",
      "  % self.max_iter, ConvergenceWarning)\n",
      "/opt/anaconda2/envs/py365/lib/python3.6/site-packages/sklearn/neural_network/multilayer_perceptron.py:564: ConvergenceWarning: Stochastic Optimizer: Maximum iterations (200) reached and the optimization hasn't converged yet.\n",
      "  % self.max_iter, ConvergenceWarning)\n",
      "/opt/anaconda2/envs/py365/lib/python3.6/site-packages/sklearn/neural_network/multilayer_perceptron.py:564: ConvergenceWarning: Stochastic Optimizer: Maximum iterations (200) reached and the optimization hasn't converged yet.\n",
      "  % self.max_iter, ConvergenceWarning)\n",
      "/opt/anaconda2/envs/py365/lib/python3.6/site-packages/sklearn/neural_network/multilayer_perceptron.py:564: ConvergenceWarning: Stochastic Optimizer: Maximum iterations (200) reached and the optimization hasn't converged yet.\n",
      "  % self.max_iter, ConvergenceWarning)\n",
      "/opt/anaconda2/envs/py365/lib/python3.6/site-packages/sklearn/neural_network/multilayer_perceptron.py:564: ConvergenceWarning: Stochastic Optimizer: Maximum iterations (200) reached and the optimization hasn't converged yet.\n",
      "  % self.max_iter, ConvergenceWarning)\n",
      "/opt/anaconda2/envs/py365/lib/python3.6/site-packages/sklearn/neural_network/multilayer_perceptron.py:564: ConvergenceWarning: Stochastic Optimizer: Maximum iterations (200) reached and the optimization hasn't converged yet.\n",
      "  % self.max_iter, ConvergenceWarning)\n"
     ]
    },
    {
     "name": "stderr",
     "output_type": "stream",
     "text": [
      "/opt/anaconda2/envs/py365/lib/python3.6/site-packages/sklearn/neural_network/multilayer_perceptron.py:564: ConvergenceWarning: Stochastic Optimizer: Maximum iterations (200) reached and the optimization hasn't converged yet.\n",
      "  % self.max_iter, ConvergenceWarning)\n",
      "/opt/anaconda2/envs/py365/lib/python3.6/site-packages/sklearn/neural_network/multilayer_perceptron.py:564: ConvergenceWarning: Stochastic Optimizer: Maximum iterations (200) reached and the optimization hasn't converged yet.\n",
      "  % self.max_iter, ConvergenceWarning)\n",
      "/opt/anaconda2/envs/py365/lib/python3.6/site-packages/sklearn/neural_network/multilayer_perceptron.py:564: ConvergenceWarning: Stochastic Optimizer: Maximum iterations (200) reached and the optimization hasn't converged yet.\n",
      "  % self.max_iter, ConvergenceWarning)\n",
      "/opt/anaconda2/envs/py365/lib/python3.6/site-packages/sklearn/neural_network/multilayer_perceptron.py:564: ConvergenceWarning: Stochastic Optimizer: Maximum iterations (200) reached and the optimization hasn't converged yet.\n",
      "  % self.max_iter, ConvergenceWarning)\n",
      "/opt/anaconda2/envs/py365/lib/python3.6/site-packages/sklearn/neural_network/multilayer_perceptron.py:564: ConvergenceWarning: Stochastic Optimizer: Maximum iterations (200) reached and the optimization hasn't converged yet.\n",
      "  % self.max_iter, ConvergenceWarning)\n",
      "/opt/anaconda2/envs/py365/lib/python3.6/site-packages/sklearn/neural_network/multilayer_perceptron.py:564: ConvergenceWarning: Stochastic Optimizer: Maximum iterations (200) reached and the optimization hasn't converged yet.\n",
      "  % self.max_iter, ConvergenceWarning)\n",
      "/opt/anaconda2/envs/py365/lib/python3.6/site-packages/sklearn/neural_network/multilayer_perceptron.py:564: ConvergenceWarning: Stochastic Optimizer: Maximum iterations (200) reached and the optimization hasn't converged yet.\n",
      "  % self.max_iter, ConvergenceWarning)\n",
      "/opt/anaconda2/envs/py365/lib/python3.6/site-packages/sklearn/neural_network/multilayer_perceptron.py:564: ConvergenceWarning: Stochastic Optimizer: Maximum iterations (200) reached and the optimization hasn't converged yet.\n",
      "  % self.max_iter, ConvergenceWarning)\n",
      "/opt/anaconda2/envs/py365/lib/python3.6/site-packages/sklearn/neural_network/multilayer_perceptron.py:564: ConvergenceWarning: Stochastic Optimizer: Maximum iterations (200) reached and the optimization hasn't converged yet.\n",
      "  % self.max_iter, ConvergenceWarning)\n",
      "/opt/anaconda2/envs/py365/lib/python3.6/site-packages/sklearn/neural_network/multilayer_perceptron.py:564: ConvergenceWarning: Stochastic Optimizer: Maximum iterations (200) reached and the optimization hasn't converged yet.\n",
      "  % self.max_iter, ConvergenceWarning)\n",
      "/opt/anaconda2/envs/py365/lib/python3.6/site-packages/sklearn/neural_network/multilayer_perceptron.py:564: ConvergenceWarning: Stochastic Optimizer: Maximum iterations (200) reached and the optimization hasn't converged yet.\n",
      "  % self.max_iter, ConvergenceWarning)\n",
      "/opt/anaconda2/envs/py365/lib/python3.6/site-packages/sklearn/neural_network/multilayer_perceptron.py:564: ConvergenceWarning: Stochastic Optimizer: Maximum iterations (200) reached and the optimization hasn't converged yet.\n",
      "  % self.max_iter, ConvergenceWarning)\n",
      "/opt/anaconda2/envs/py365/lib/python3.6/site-packages/sklearn/neural_network/multilayer_perceptron.py:564: ConvergenceWarning: Stochastic Optimizer: Maximum iterations (200) reached and the optimization hasn't converged yet.\n",
      "  % self.max_iter, ConvergenceWarning)\n",
      "/opt/anaconda2/envs/py365/lib/python3.6/site-packages/sklearn/neural_network/multilayer_perceptron.py:564: ConvergenceWarning: Stochastic Optimizer: Maximum iterations (200) reached and the optimization hasn't converged yet.\n",
      "  % self.max_iter, ConvergenceWarning)\n",
      "/opt/anaconda2/envs/py365/lib/python3.6/site-packages/sklearn/neural_network/multilayer_perceptron.py:564: ConvergenceWarning: Stochastic Optimizer: Maximum iterations (200) reached and the optimization hasn't converged yet.\n",
      "  % self.max_iter, ConvergenceWarning)\n",
      "/opt/anaconda2/envs/py365/lib/python3.6/site-packages/sklearn/neural_network/multilayer_perceptron.py:564: ConvergenceWarning: Stochastic Optimizer: Maximum iterations (200) reached and the optimization hasn't converged yet.\n",
      "  % self.max_iter, ConvergenceWarning)\n",
      "/opt/anaconda2/envs/py365/lib/python3.6/site-packages/sklearn/neural_network/multilayer_perceptron.py:564: ConvergenceWarning: Stochastic Optimizer: Maximum iterations (200) reached and the optimization hasn't converged yet.\n",
      "  % self.max_iter, ConvergenceWarning)\n",
      "/opt/anaconda2/envs/py365/lib/python3.6/site-packages/sklearn/neural_network/multilayer_perceptron.py:564: ConvergenceWarning: Stochastic Optimizer: Maximum iterations (200) reached and the optimization hasn't converged yet.\n",
      "  % self.max_iter, ConvergenceWarning)\n",
      "/opt/anaconda2/envs/py365/lib/python3.6/site-packages/sklearn/neural_network/multilayer_perceptron.py:564: ConvergenceWarning: Stochastic Optimizer: Maximum iterations (200) reached and the optimization hasn't converged yet.\n",
      "  % self.max_iter, ConvergenceWarning)\n",
      "/opt/anaconda2/envs/py365/lib/python3.6/site-packages/sklearn/neural_network/multilayer_perceptron.py:564: ConvergenceWarning: Stochastic Optimizer: Maximum iterations (200) reached and the optimization hasn't converged yet.\n",
      "  % self.max_iter, ConvergenceWarning)\n",
      "/opt/anaconda2/envs/py365/lib/python3.6/site-packages/sklearn/neural_network/multilayer_perceptron.py:564: ConvergenceWarning: Stochastic Optimizer: Maximum iterations (200) reached and the optimization hasn't converged yet.\n",
      "  % self.max_iter, ConvergenceWarning)\n",
      "/opt/anaconda2/envs/py365/lib/python3.6/site-packages/sklearn/neural_network/multilayer_perceptron.py:564: ConvergenceWarning: Stochastic Optimizer: Maximum iterations (200) reached and the optimization hasn't converged yet.\n",
      "  % self.max_iter, ConvergenceWarning)\n",
      "/opt/anaconda2/envs/py365/lib/python3.6/site-packages/sklearn/neural_network/multilayer_perceptron.py:564: ConvergenceWarning: Stochastic Optimizer: Maximum iterations (200) reached and the optimization hasn't converged yet.\n",
      "  % self.max_iter, ConvergenceWarning)\n",
      "/opt/anaconda2/envs/py365/lib/python3.6/site-packages/sklearn/neural_network/multilayer_perceptron.py:564: ConvergenceWarning: Stochastic Optimizer: Maximum iterations (200) reached and the optimization hasn't converged yet.\n",
      "  % self.max_iter, ConvergenceWarning)\n",
      "/opt/anaconda2/envs/py365/lib/python3.6/site-packages/sklearn/neural_network/multilayer_perceptron.py:564: ConvergenceWarning: Stochastic Optimizer: Maximum iterations (200) reached and the optimization hasn't converged yet.\n",
      "  % self.max_iter, ConvergenceWarning)\n",
      "/opt/anaconda2/envs/py365/lib/python3.6/site-packages/sklearn/neural_network/multilayer_perceptron.py:564: ConvergenceWarning: Stochastic Optimizer: Maximum iterations (200) reached and the optimization hasn't converged yet.\n",
      "  % self.max_iter, ConvergenceWarning)\n"
     ]
    },
    {
     "name": "stdout",
     "output_type": "stream",
     "text": [
      "Best params : {'activation': 'tanh', 'hidden_layer_sizes': (200, 4), 'learning_rate': 'invscaling'}\n",
      "0.658 (+/-0.047) for {'activation': 'relu', 'hidden_layer_sizes': (100, 2), 'learning_rate': 'constant'}\n",
      "0.648 (+/-0.02) for {'activation': 'relu', 'hidden_layer_sizes': (100, 2), 'learning_rate': 'invscaling'}\n",
      "0.647 (+/-0.015) for {'activation': 'relu', 'hidden_layer_sizes': (100, 2), 'learning_rate': 'adaptive'}\n",
      "0.67 (+/-0.033) for {'activation': 'relu', 'hidden_layer_sizes': (150, 3), 'learning_rate': 'constant'}\n",
      "0.653 (+/-0.033) for {'activation': 'relu', 'hidden_layer_sizes': (150, 3), 'learning_rate': 'invscaling'}\n",
      "0.661 (+/-0.035) for {'activation': 'relu', 'hidden_layer_sizes': (150, 3), 'learning_rate': 'adaptive'}\n",
      "0.659 (+/-0.033) for {'activation': 'relu', 'hidden_layer_sizes': (200, 4), 'learning_rate': 'constant'}\n",
      "0.652 (+/-0.015) for {'activation': 'relu', 'hidden_layer_sizes': (200, 4), 'learning_rate': 'invscaling'}\n",
      "0.658 (+/-0.039) for {'activation': 'relu', 'hidden_layer_sizes': (200, 4), 'learning_rate': 'adaptive'}\n",
      "0.623 (+/-0.03) for {'activation': 'logistic', 'hidden_layer_sizes': (100, 2), 'learning_rate': 'constant'}\n",
      "0.615 (+/-0.025) for {'activation': 'logistic', 'hidden_layer_sizes': (100, 2), 'learning_rate': 'invscaling'}\n",
      "0.631 (+/-0.03) for {'activation': 'logistic', 'hidden_layer_sizes': (100, 2), 'learning_rate': 'adaptive'}\n",
      "0.609 (+/-0.015) for {'activation': 'logistic', 'hidden_layer_sizes': (150, 3), 'learning_rate': 'constant'}\n",
      "0.616 (+/-0.031) for {'activation': 'logistic', 'hidden_layer_sizes': (150, 3), 'learning_rate': 'invscaling'}\n",
      "0.609 (+/-0.013) for {'activation': 'logistic', 'hidden_layer_sizes': (150, 3), 'learning_rate': 'adaptive'}\n",
      "0.609 (+/-0.013) for {'activation': 'logistic', 'hidden_layer_sizes': (200, 4), 'learning_rate': 'constant'}\n",
      "0.618 (+/-0.048) for {'activation': 'logistic', 'hidden_layer_sizes': (200, 4), 'learning_rate': 'invscaling'}\n",
      "0.605 (+/-0.001) for {'activation': 'logistic', 'hidden_layer_sizes': (200, 4), 'learning_rate': 'adaptive'}\n",
      "0.648 (+/-0.021) for {'activation': 'tanh', 'hidden_layer_sizes': (100, 2), 'learning_rate': 'constant'}\n",
      "0.656 (+/-0.044) for {'activation': 'tanh', 'hidden_layer_sizes': (100, 2), 'learning_rate': 'invscaling'}\n",
      "0.663 (+/-0.024) for {'activation': 'tanh', 'hidden_layer_sizes': (100, 2), 'learning_rate': 'adaptive'}\n",
      "0.661 (+/-0.015) for {'activation': 'tanh', 'hidden_layer_sizes': (150, 3), 'learning_rate': 'constant'}\n",
      "0.672 (+/-0.031) for {'activation': 'tanh', 'hidden_layer_sizes': (150, 3), 'learning_rate': 'invscaling'}\n",
      "0.673 (+/-0.013) for {'activation': 'tanh', 'hidden_layer_sizes': (150, 3), 'learning_rate': 'adaptive'}\n",
      "0.667 (+/-0.023) for {'activation': 'tanh', 'hidden_layer_sizes': (200, 4), 'learning_rate': 'constant'}\n",
      "0.675 (+/-0.019) for {'activation': 'tanh', 'hidden_layer_sizes': (200, 4), 'learning_rate': 'invscaling'}\n",
      "0.659 (+/-0.032) for {'activation': 'tanh', 'hidden_layer_sizes': (200, 4), 'learning_rate': 'adaptive'}\n"
     ]
    }
   ],
   "source": [
    "params = {\"activation\":['relu','logistic','tanh'],\n",
    "         \"hidden_layer_sizes\":[(100,2),(150,3),(200,4)],\n",
    "         \"learning_rate\":['constant','invscaling','adaptive']}\n",
    "mlpGS = GridSearchCV(mlp,params, cv = 5)\n",
    "print_results(mlpGS.fit(training, y_train))"
   ]
  },
  {
   "cell_type": "code",
   "execution_count": 22,
   "metadata": {},
   "outputs": [
    {
     "data": {
      "text/plain": [
       "['./waterpotability_MLP.pkl']"
      ]
     },
     "execution_count": 22,
     "metadata": {},
     "output_type": "execute_result"
    }
   ],
   "source": [
    "joblib.dump(mlpGS.best_estimator_,'./waterpotability_MLP.pkl')"
   ]
  },
  {
   "cell_type": "code",
   "execution_count": null,
   "metadata": {
    "collapsed": true
   },
   "outputs": [],
   "source": []
  },
  {
   "cell_type": "code",
   "execution_count": null,
   "metadata": {
    "collapsed": true
   },
   "outputs": [],
   "source": []
  },
  {
   "cell_type": "markdown",
   "metadata": {},
   "source": [
    "# Training SVM"
   ]
  },
  {
   "cell_type": "code",
   "execution_count": 23,
   "metadata": {},
   "outputs": [
    {
     "name": "stdout",
     "output_type": "stream",
     "text": [
      "Best params : {'C': 1.0, 'kernel': 'rbf'}\n",
      "0.605 (+/-0.001) for {'C': 0.001, 'kernel': 'linear'}\n",
      "0.605 (+/-0.001) for {'C': 0.001, 'kernel': 'rbf'}\n",
      "0.605 (+/-0.001) for {'C': 0.01, 'kernel': 'linear'}\n",
      "0.605 (+/-0.001) for {'C': 0.01, 'kernel': 'rbf'}\n",
      "0.605 (+/-0.001) for {'C': 0.1, 'kernel': 'linear'}\n",
      "0.606 (+/-0.002) for {'C': 0.1, 'kernel': 'rbf'}\n",
      "0.605 (+/-0.001) for {'C': 1.0, 'kernel': 'linear'}\n",
      "0.671 (+/-0.016) for {'C': 1.0, 'kernel': 'rbf'}\n",
      "0.605 (+/-0.001) for {'C': 10.0, 'kernel': 'linear'}\n",
      "0.668 (+/-0.04) for {'C': 10.0, 'kernel': 'rbf'}\n"
     ]
    }
   ],
   "source": [
    "svc = SVC(cache_size = 100)\n",
    "params = {'C':[0.001,0.01,0.1,1.0,10.0],\n",
    "         'kernel':['linear','rbf']}\n",
    "gsvm = GridSearchCV(svc,params, cv =5)\n",
    "print_results(gsvm.fit(training,y_train))"
   ]
  },
  {
   "cell_type": "code",
   "execution_count": 24,
   "metadata": {},
   "outputs": [
    {
     "data": {
      "text/plain": [
       "['./waterpotability_SVC.pkl']"
      ]
     },
     "execution_count": 24,
     "metadata": {},
     "output_type": "execute_result"
    }
   ],
   "source": [
    "joblib.dump(gsvm.best_estimator_,'./waterpotability_SVC.pkl')"
   ]
  },
  {
   "cell_type": "markdown",
   "metadata": {},
   "source": [
    "# Testing GradientBoostingClassifier"
   ]
  },
  {
   "cell_type": "code",
   "execution_count": 25,
   "metadata": {
    "collapsed": true
   },
   "outputs": [],
   "source": [
    "gb = GradientBoostingClassifier()"
   ]
  },
  {
   "cell_type": "code",
   "execution_count": 26,
   "metadata": {},
   "outputs": [
    {
     "data": {
      "text/plain": [
       "GradientBoostingClassifier(criterion='friedman_mse', init=None,\n",
       "              learning_rate=0.1, loss='deviance', max_depth=3,\n",
       "              max_features=None, max_leaf_nodes=None,\n",
       "              min_impurity_decrease=0.0, min_impurity_split=None,\n",
       "              min_samples_leaf=1, min_samples_split=2,\n",
       "              min_weight_fraction_leaf=0.0, n_estimators=100,\n",
       "              presort='auto', random_state=None, subsample=1.0, verbose=0,\n",
       "              warm_start=False)"
      ]
     },
     "execution_count": 26,
     "metadata": {},
     "output_type": "execute_result"
    }
   ],
   "source": [
    "gb"
   ]
  },
  {
   "cell_type": "code",
   "execution_count": 27,
   "metadata": {},
   "outputs": [
    {
     "name": "stdout",
     "output_type": "stream",
     "text": [
      "Best params : {'criterion': 'mse', 'learning_rate': 0.1, 'max_depth': 6, 'n_estimators': 30}\n",
      "0.605 (+/-0.001) for {'criterion': 'friedman_mse', 'learning_rate': 0.001, 'max_depth': 3, 'n_estimators': 1}\n",
      "0.605 (+/-0.001) for {'criterion': 'friedman_mse', 'learning_rate': 0.001, 'max_depth': 3, 'n_estimators': 3}\n",
      "0.605 (+/-0.001) for {'criterion': 'friedman_mse', 'learning_rate': 0.001, 'max_depth': 3, 'n_estimators': 5}\n",
      "0.605 (+/-0.001) for {'criterion': 'friedman_mse', 'learning_rate': 0.001, 'max_depth': 3, 'n_estimators': 10}\n",
      "0.605 (+/-0.001) for {'criterion': 'friedman_mse', 'learning_rate': 0.001, 'max_depth': 3, 'n_estimators': 20}\n",
      "0.605 (+/-0.001) for {'criterion': 'friedman_mse', 'learning_rate': 0.001, 'max_depth': 3, 'n_estimators': 30}\n",
      "0.605 (+/-0.001) for {'criterion': 'friedman_mse', 'learning_rate': 0.001, 'max_depth': 6, 'n_estimators': 1}\n",
      "0.605 (+/-0.001) for {'criterion': 'friedman_mse', 'learning_rate': 0.001, 'max_depth': 6, 'n_estimators': 3}\n",
      "0.605 (+/-0.001) for {'criterion': 'friedman_mse', 'learning_rate': 0.001, 'max_depth': 6, 'n_estimators': 5}\n",
      "0.605 (+/-0.001) for {'criterion': 'friedman_mse', 'learning_rate': 0.001, 'max_depth': 6, 'n_estimators': 10}\n",
      "0.605 (+/-0.001) for {'criterion': 'friedman_mse', 'learning_rate': 0.001, 'max_depth': 6, 'n_estimators': 20}\n",
      "0.605 (+/-0.001) for {'criterion': 'friedman_mse', 'learning_rate': 0.001, 'max_depth': 6, 'n_estimators': 30}\n",
      "0.605 (+/-0.001) for {'criterion': 'friedman_mse', 'learning_rate': 0.001, 'max_depth': 9, 'n_estimators': 1}\n",
      "0.605 (+/-0.001) for {'criterion': 'friedman_mse', 'learning_rate': 0.001, 'max_depth': 9, 'n_estimators': 3}\n",
      "0.605 (+/-0.001) for {'criterion': 'friedman_mse', 'learning_rate': 0.001, 'max_depth': 9, 'n_estimators': 5}\n",
      "0.605 (+/-0.001) for {'criterion': 'friedman_mse', 'learning_rate': 0.001, 'max_depth': 9, 'n_estimators': 10}\n",
      "0.605 (+/-0.001) for {'criterion': 'friedman_mse', 'learning_rate': 0.001, 'max_depth': 9, 'n_estimators': 20}\n",
      "0.605 (+/-0.001) for {'criterion': 'friedman_mse', 'learning_rate': 0.001, 'max_depth': 9, 'n_estimators': 30}\n",
      "0.605 (+/-0.001) for {'criterion': 'friedman_mse', 'learning_rate': 0.01, 'max_depth': 3, 'n_estimators': 1}\n",
      "0.605 (+/-0.001) for {'criterion': 'friedman_mse', 'learning_rate': 0.01, 'max_depth': 3, 'n_estimators': 3}\n",
      "0.605 (+/-0.001) for {'criterion': 'friedman_mse', 'learning_rate': 0.01, 'max_depth': 3, 'n_estimators': 5}\n",
      "0.605 (+/-0.001) for {'criterion': 'friedman_mse', 'learning_rate': 0.01, 'max_depth': 3, 'n_estimators': 10}\n",
      "0.605 (+/-0.001) for {'criterion': 'friedman_mse', 'learning_rate': 0.01, 'max_depth': 3, 'n_estimators': 20}\n",
      "0.616 (+/-0.003) for {'criterion': 'friedman_mse', 'learning_rate': 0.01, 'max_depth': 3, 'n_estimators': 30}\n",
      "0.605 (+/-0.001) for {'criterion': 'friedman_mse', 'learning_rate': 0.01, 'max_depth': 6, 'n_estimators': 1}\n",
      "0.605 (+/-0.001) for {'criterion': 'friedman_mse', 'learning_rate': 0.01, 'max_depth': 6, 'n_estimators': 3}\n",
      "0.605 (+/-0.001) for {'criterion': 'friedman_mse', 'learning_rate': 0.01, 'max_depth': 6, 'n_estimators': 5}\n",
      "0.605 (+/-0.001) for {'criterion': 'friedman_mse', 'learning_rate': 0.01, 'max_depth': 6, 'n_estimators': 10}\n",
      "0.611 (+/-0.009) for {'criterion': 'friedman_mse', 'learning_rate': 0.01, 'max_depth': 6, 'n_estimators': 20}\n",
      "0.629 (+/-0.015) for {'criterion': 'friedman_mse', 'learning_rate': 0.01, 'max_depth': 6, 'n_estimators': 30}\n",
      "0.605 (+/-0.001) for {'criterion': 'friedman_mse', 'learning_rate': 0.01, 'max_depth': 9, 'n_estimators': 1}\n",
      "0.605 (+/-0.001) for {'criterion': 'friedman_mse', 'learning_rate': 0.01, 'max_depth': 9, 'n_estimators': 3}\n",
      "0.605 (+/-0.001) for {'criterion': 'friedman_mse', 'learning_rate': 0.01, 'max_depth': 9, 'n_estimators': 5}\n",
      "0.605 (+/-0.001) for {'criterion': 'friedman_mse', 'learning_rate': 0.01, 'max_depth': 9, 'n_estimators': 10}\n",
      "0.631 (+/-0.016) for {'criterion': 'friedman_mse', 'learning_rate': 0.01, 'max_depth': 9, 'n_estimators': 20}\n",
      "0.639 (+/-0.008) for {'criterion': 'friedman_mse', 'learning_rate': 0.01, 'max_depth': 9, 'n_estimators': 30}\n",
      "0.605 (+/-0.001) for {'criterion': 'friedman_mse', 'learning_rate': 0.1, 'max_depth': 3, 'n_estimators': 1}\n",
      "0.616 (+/-0.005) for {'criterion': 'friedman_mse', 'learning_rate': 0.1, 'max_depth': 3, 'n_estimators': 3}\n",
      "0.619 (+/-0.008) for {'criterion': 'friedman_mse', 'learning_rate': 0.1, 'max_depth': 3, 'n_estimators': 5}\n",
      "0.628 (+/-0.021) for {'criterion': 'friedman_mse', 'learning_rate': 0.1, 'max_depth': 3, 'n_estimators': 10}\n",
      "0.636 (+/-0.021) for {'criterion': 'friedman_mse', 'learning_rate': 0.1, 'max_depth': 3, 'n_estimators': 20}\n",
      "0.641 (+/-0.029) for {'criterion': 'friedman_mse', 'learning_rate': 0.1, 'max_depth': 3, 'n_estimators': 30}\n",
      "0.605 (+/-0.001) for {'criterion': 'friedman_mse', 'learning_rate': 0.1, 'max_depth': 6, 'n_estimators': 1}\n",
      "0.634 (+/-0.014) for {'criterion': 'friedman_mse', 'learning_rate': 0.1, 'max_depth': 6, 'n_estimators': 3}\n",
      "0.64 (+/-0.019) for {'criterion': 'friedman_mse', 'learning_rate': 0.1, 'max_depth': 6, 'n_estimators': 5}\n",
      "0.653 (+/-0.015) for {'criterion': 'friedman_mse', 'learning_rate': 0.1, 'max_depth': 6, 'n_estimators': 10}\n",
      "0.655 (+/-0.014) for {'criterion': 'friedman_mse', 'learning_rate': 0.1, 'max_depth': 6, 'n_estimators': 20}\n",
      "0.654 (+/-0.01) for {'criterion': 'friedman_mse', 'learning_rate': 0.1, 'max_depth': 6, 'n_estimators': 30}\n",
      "0.605 (+/-0.001) for {'criterion': 'friedman_mse', 'learning_rate': 0.1, 'max_depth': 9, 'n_estimators': 1}\n",
      "0.635 (+/-0.018) for {'criterion': 'friedman_mse', 'learning_rate': 0.1, 'max_depth': 9, 'n_estimators': 3}\n",
      "0.637 (+/-0.025) for {'criterion': 'friedman_mse', 'learning_rate': 0.1, 'max_depth': 9, 'n_estimators': 5}\n",
      "0.647 (+/-0.029) for {'criterion': 'friedman_mse', 'learning_rate': 0.1, 'max_depth': 9, 'n_estimators': 10}\n",
      "0.65 (+/-0.024) for {'criterion': 'friedman_mse', 'learning_rate': 0.1, 'max_depth': 9, 'n_estimators': 20}\n",
      "0.652 (+/-0.016) for {'criterion': 'friedman_mse', 'learning_rate': 0.1, 'max_depth': 9, 'n_estimators': 30}\n",
      "0.627 (+/-0.023) for {'criterion': 'friedman_mse', 'learning_rate': 1.0, 'max_depth': 3, 'n_estimators': 1}\n",
      "0.628 (+/-0.015) for {'criterion': 'friedman_mse', 'learning_rate': 1.0, 'max_depth': 3, 'n_estimators': 3}\n",
      "0.627 (+/-0.019) for {'criterion': 'friedman_mse', 'learning_rate': 1.0, 'max_depth': 3, 'n_estimators': 5}\n",
      "0.627 (+/-0.018) for {'criterion': 'friedman_mse', 'learning_rate': 1.0, 'max_depth': 3, 'n_estimators': 10}\n",
      "0.624 (+/-0.034) for {'criterion': 'friedman_mse', 'learning_rate': 1.0, 'max_depth': 3, 'n_estimators': 20}\n",
      "0.607 (+/-0.04) for {'criterion': 'friedman_mse', 'learning_rate': 1.0, 'max_depth': 3, 'n_estimators': 30}\n",
      "0.632 (+/-0.02) for {'criterion': 'friedman_mse', 'learning_rate': 1.0, 'max_depth': 6, 'n_estimators': 1}\n",
      "0.615 (+/-0.057) for {'criterion': 'friedman_mse', 'learning_rate': 1.0, 'max_depth': 6, 'n_estimators': 3}\n",
      "0.611 (+/-0.074) for {'criterion': 'friedman_mse', 'learning_rate': 1.0, 'max_depth': 6, 'n_estimators': 5}\n",
      "0.601 (+/-0.042) for {'criterion': 'friedman_mse', 'learning_rate': 1.0, 'max_depth': 6, 'n_estimators': 10}\n",
      "0.596 (+/-0.054) for {'criterion': 'friedman_mse', 'learning_rate': 1.0, 'max_depth': 6, 'n_estimators': 20}\n",
      "0.596 (+/-0.065) for {'criterion': 'friedman_mse', 'learning_rate': 1.0, 'max_depth': 6, 'n_estimators': 30}\n",
      "0.626 (+/-0.015) for {'criterion': 'friedman_mse', 'learning_rate': 1.0, 'max_depth': 9, 'n_estimators': 1}\n",
      "0.607 (+/-0.032) for {'criterion': 'friedman_mse', 'learning_rate': 1.0, 'max_depth': 9, 'n_estimators': 3}\n",
      "0.594 (+/-0.032) for {'criterion': 'friedman_mse', 'learning_rate': 1.0, 'max_depth': 9, 'n_estimators': 5}\n",
      "0.612 (+/-0.012) for {'criterion': 'friedman_mse', 'learning_rate': 1.0, 'max_depth': 9, 'n_estimators': 10}\n",
      "0.609 (+/-0.021) for {'criterion': 'friedman_mse', 'learning_rate': 1.0, 'max_depth': 9, 'n_estimators': 20}\n",
      "0.623 (+/-0.015) for {'criterion': 'friedman_mse', 'learning_rate': 1.0, 'max_depth': 9, 'n_estimators': 30}\n",
      "0.622 (+/-0.029) for {'criterion': 'friedman_mse', 'learning_rate': 10, 'max_depth': 3, 'n_estimators': 1}\n",
      "0.509 (+/-0.192) for {'criterion': 'friedman_mse', 'learning_rate': 10, 'max_depth': 3, 'n_estimators': 3}\n",
      "0.472 (+/-0.186) for {'criterion': 'friedman_mse', 'learning_rate': 10, 'max_depth': 3, 'n_estimators': 5}\n",
      "0.472 (+/-0.186) for {'criterion': 'friedman_mse', 'learning_rate': 10, 'max_depth': 3, 'n_estimators': 10}\n",
      "0.472 (+/-0.186) for {'criterion': 'friedman_mse', 'learning_rate': 10, 'max_depth': 3, 'n_estimators': 20}\n",
      "0.472 (+/-0.186) for {'criterion': 'friedman_mse', 'learning_rate': 10, 'max_depth': 3, 'n_estimators': 30}\n",
      "0.627 (+/-0.027) for {'criterion': 'friedman_mse', 'learning_rate': 10, 'max_depth': 6, 'n_estimators': 1}\n",
      "0.578 (+/-0.065) for {'criterion': 'friedman_mse', 'learning_rate': 10, 'max_depth': 6, 'n_estimators': 3}\n",
      "0.512 (+/-0.119) for {'criterion': 'friedman_mse', 'learning_rate': 10, 'max_depth': 6, 'n_estimators': 5}\n",
      "0.541 (+/-0.058) for {'criterion': 'friedman_mse', 'learning_rate': 10, 'max_depth': 6, 'n_estimators': 10}\n",
      "0.513 (+/-0.096) for {'criterion': 'friedman_mse', 'learning_rate': 10, 'max_depth': 6, 'n_estimators': 20}\n",
      "0.493 (+/-0.096) for {'criterion': 'friedman_mse', 'learning_rate': 10, 'max_depth': 6, 'n_estimators': 30}\n",
      "0.617 (+/-0.021) for {'criterion': 'friedman_mse', 'learning_rate': 10, 'max_depth': 9, 'n_estimators': 1}\n",
      "0.577 (+/-0.028) for {'criterion': 'friedman_mse', 'learning_rate': 10, 'max_depth': 9, 'n_estimators': 3}\n",
      "0.514 (+/-0.099) for {'criterion': 'friedman_mse', 'learning_rate': 10, 'max_depth': 9, 'n_estimators': 5}\n",
      "0.493 (+/-0.05) for {'criterion': 'friedman_mse', 'learning_rate': 10, 'max_depth': 9, 'n_estimators': 10}\n",
      "0.505 (+/-0.024) for {'criterion': 'friedman_mse', 'learning_rate': 10, 'max_depth': 9, 'n_estimators': 20}\n",
      "0.489 (+/-0.107) for {'criterion': 'friedman_mse', 'learning_rate': 10, 'max_depth': 9, 'n_estimators': 30}\n",
      "0.605 (+/-0.001) for {'criterion': 'mse', 'learning_rate': 0.001, 'max_depth': 3, 'n_estimators': 1}\n",
      "0.605 (+/-0.001) for {'criterion': 'mse', 'learning_rate': 0.001, 'max_depth': 3, 'n_estimators': 3}\n",
      "0.605 (+/-0.001) for {'criterion': 'mse', 'learning_rate': 0.001, 'max_depth': 3, 'n_estimators': 5}\n",
      "0.605 (+/-0.001) for {'criterion': 'mse', 'learning_rate': 0.001, 'max_depth': 3, 'n_estimators': 10}\n",
      "0.605 (+/-0.001) for {'criterion': 'mse', 'learning_rate': 0.001, 'max_depth': 3, 'n_estimators': 20}\n",
      "0.605 (+/-0.001) for {'criterion': 'mse', 'learning_rate': 0.001, 'max_depth': 3, 'n_estimators': 30}\n",
      "0.605 (+/-0.001) for {'criterion': 'mse', 'learning_rate': 0.001, 'max_depth': 6, 'n_estimators': 1}\n",
      "0.605 (+/-0.001) for {'criterion': 'mse', 'learning_rate': 0.001, 'max_depth': 6, 'n_estimators': 3}\n",
      "0.605 (+/-0.001) for {'criterion': 'mse', 'learning_rate': 0.001, 'max_depth': 6, 'n_estimators': 5}\n",
      "0.605 (+/-0.001) for {'criterion': 'mse', 'learning_rate': 0.001, 'max_depth': 6, 'n_estimators': 10}\n",
      "0.605 (+/-0.001) for {'criterion': 'mse', 'learning_rate': 0.001, 'max_depth': 6, 'n_estimators': 20}\n",
      "0.605 (+/-0.001) for {'criterion': 'mse', 'learning_rate': 0.001, 'max_depth': 6, 'n_estimators': 30}\n",
      "0.605 (+/-0.001) for {'criterion': 'mse', 'learning_rate': 0.001, 'max_depth': 9, 'n_estimators': 1}\n",
      "0.605 (+/-0.001) for {'criterion': 'mse', 'learning_rate': 0.001, 'max_depth': 9, 'n_estimators': 3}\n",
      "0.605 (+/-0.001) for {'criterion': 'mse', 'learning_rate': 0.001, 'max_depth': 9, 'n_estimators': 5}\n",
      "0.605 (+/-0.001) for {'criterion': 'mse', 'learning_rate': 0.001, 'max_depth': 9, 'n_estimators': 10}\n",
      "0.605 (+/-0.001) for {'criterion': 'mse', 'learning_rate': 0.001, 'max_depth': 9, 'n_estimators': 20}\n",
      "0.605 (+/-0.001) for {'criterion': 'mse', 'learning_rate': 0.001, 'max_depth': 9, 'n_estimators': 30}\n",
      "0.605 (+/-0.001) for {'criterion': 'mse', 'learning_rate': 0.01, 'max_depth': 3, 'n_estimators': 1}\n",
      "0.605 (+/-0.001) for {'criterion': 'mse', 'learning_rate': 0.01, 'max_depth': 3, 'n_estimators': 3}\n",
      "0.605 (+/-0.001) for {'criterion': 'mse', 'learning_rate': 0.01, 'max_depth': 3, 'n_estimators': 5}\n",
      "0.605 (+/-0.001) for {'criterion': 'mse', 'learning_rate': 0.01, 'max_depth': 3, 'n_estimators': 10}\n",
      "0.605 (+/-0.001) for {'criterion': 'mse', 'learning_rate': 0.01, 'max_depth': 3, 'n_estimators': 20}\n",
      "0.616 (+/-0.003) for {'criterion': 'mse', 'learning_rate': 0.01, 'max_depth': 3, 'n_estimators': 30}\n",
      "0.605 (+/-0.001) for {'criterion': 'mse', 'learning_rate': 0.01, 'max_depth': 6, 'n_estimators': 1}\n",
      "0.605 (+/-0.001) for {'criterion': 'mse', 'learning_rate': 0.01, 'max_depth': 6, 'n_estimators': 3}\n",
      "0.605 (+/-0.001) for {'criterion': 'mse', 'learning_rate': 0.01, 'max_depth': 6, 'n_estimators': 5}\n",
      "0.605 (+/-0.001) for {'criterion': 'mse', 'learning_rate': 0.01, 'max_depth': 6, 'n_estimators': 10}\n",
      "0.611 (+/-0.009) for {'criterion': 'mse', 'learning_rate': 0.01, 'max_depth': 6, 'n_estimators': 20}\n",
      "0.629 (+/-0.016) for {'criterion': 'mse', 'learning_rate': 0.01, 'max_depth': 6, 'n_estimators': 30}\n",
      "0.605 (+/-0.001) for {'criterion': 'mse', 'learning_rate': 0.01, 'max_depth': 9, 'n_estimators': 1}\n",
      "0.605 (+/-0.001) for {'criterion': 'mse', 'learning_rate': 0.01, 'max_depth': 9, 'n_estimators': 3}\n",
      "0.605 (+/-0.001) for {'criterion': 'mse', 'learning_rate': 0.01, 'max_depth': 9, 'n_estimators': 5}\n",
      "0.605 (+/-0.001) for {'criterion': 'mse', 'learning_rate': 0.01, 'max_depth': 9, 'n_estimators': 10}\n",
      "0.631 (+/-0.016) for {'criterion': 'mse', 'learning_rate': 0.01, 'max_depth': 9, 'n_estimators': 20}\n",
      "0.637 (+/-0.006) for {'criterion': 'mse', 'learning_rate': 0.01, 'max_depth': 9, 'n_estimators': 30}\n",
      "0.605 (+/-0.001) for {'criterion': 'mse', 'learning_rate': 0.1, 'max_depth': 3, 'n_estimators': 1}\n",
      "0.616 (+/-0.005) for {'criterion': 'mse', 'learning_rate': 0.1, 'max_depth': 3, 'n_estimators': 3}\n",
      "0.619 (+/-0.009) for {'criterion': 'mse', 'learning_rate': 0.1, 'max_depth': 3, 'n_estimators': 5}\n",
      "0.628 (+/-0.021) for {'criterion': 'mse', 'learning_rate': 0.1, 'max_depth': 3, 'n_estimators': 10}\n",
      "0.636 (+/-0.02) for {'criterion': 'mse', 'learning_rate': 0.1, 'max_depth': 3, 'n_estimators': 20}\n",
      "0.642 (+/-0.03) for {'criterion': 'mse', 'learning_rate': 0.1, 'max_depth': 3, 'n_estimators': 30}\n",
      "0.605 (+/-0.001) for {'criterion': 'mse', 'learning_rate': 0.1, 'max_depth': 6, 'n_estimators': 1}\n",
      "0.633 (+/-0.014) for {'criterion': 'mse', 'learning_rate': 0.1, 'max_depth': 6, 'n_estimators': 3}\n",
      "0.637 (+/-0.014) for {'criterion': 'mse', 'learning_rate': 0.1, 'max_depth': 6, 'n_estimators': 5}\n",
      "0.65 (+/-0.017) for {'criterion': 'mse', 'learning_rate': 0.1, 'max_depth': 6, 'n_estimators': 10}\n",
      "0.656 (+/-0.014) for {'criterion': 'mse', 'learning_rate': 0.1, 'max_depth': 6, 'n_estimators': 20}\n",
      "0.657 (+/-0.017) for {'criterion': 'mse', 'learning_rate': 0.1, 'max_depth': 6, 'n_estimators': 30}\n",
      "0.605 (+/-0.001) for {'criterion': 'mse', 'learning_rate': 0.1, 'max_depth': 9, 'n_estimators': 1}\n",
      "0.635 (+/-0.021) for {'criterion': 'mse', 'learning_rate': 0.1, 'max_depth': 9, 'n_estimators': 3}\n",
      "0.639 (+/-0.018) for {'criterion': 'mse', 'learning_rate': 0.1, 'max_depth': 9, 'n_estimators': 5}\n",
      "0.645 (+/-0.016) for {'criterion': 'mse', 'learning_rate': 0.1, 'max_depth': 9, 'n_estimators': 10}\n",
      "0.65 (+/-0.022) for {'criterion': 'mse', 'learning_rate': 0.1, 'max_depth': 9, 'n_estimators': 20}\n",
      "0.648 (+/-0.023) for {'criterion': 'mse', 'learning_rate': 0.1, 'max_depth': 9, 'n_estimators': 30}\n",
      "0.627 (+/-0.023) for {'criterion': 'mse', 'learning_rate': 1.0, 'max_depth': 3, 'n_estimators': 1}\n",
      "0.631 (+/-0.017) for {'criterion': 'mse', 'learning_rate': 1.0, 'max_depth': 3, 'n_estimators': 3}\n",
      "0.625 (+/-0.021) for {'criterion': 'mse', 'learning_rate': 1.0, 'max_depth': 3, 'n_estimators': 5}\n",
      "0.627 (+/-0.018) for {'criterion': 'mse', 'learning_rate': 1.0, 'max_depth': 3, 'n_estimators': 10}\n",
      "0.624 (+/-0.033) for {'criterion': 'mse', 'learning_rate': 1.0, 'max_depth': 3, 'n_estimators': 20}\n",
      "0.611 (+/-0.033) for {'criterion': 'mse', 'learning_rate': 1.0, 'max_depth': 3, 'n_estimators': 30}\n",
      "0.634 (+/-0.02) for {'criterion': 'mse', 'learning_rate': 1.0, 'max_depth': 6, 'n_estimators': 1}\n",
      "0.617 (+/-0.048) for {'criterion': 'mse', 'learning_rate': 1.0, 'max_depth': 6, 'n_estimators': 3}\n",
      "0.604 (+/-0.058) for {'criterion': 'mse', 'learning_rate': 1.0, 'max_depth': 6, 'n_estimators': 5}\n",
      "0.599 (+/-0.03) for {'criterion': 'mse', 'learning_rate': 1.0, 'max_depth': 6, 'n_estimators': 10}\n",
      "0.596 (+/-0.041) for {'criterion': 'mse', 'learning_rate': 1.0, 'max_depth': 6, 'n_estimators': 20}\n",
      "0.601 (+/-0.036) for {'criterion': 'mse', 'learning_rate': 1.0, 'max_depth': 6, 'n_estimators': 30}\n",
      "0.624 (+/-0.03) for {'criterion': 'mse', 'learning_rate': 1.0, 'max_depth': 9, 'n_estimators': 1}\n",
      "0.602 (+/-0.033) for {'criterion': 'mse', 'learning_rate': 1.0, 'max_depth': 9, 'n_estimators': 3}\n",
      "0.606 (+/-0.019) for {'criterion': 'mse', 'learning_rate': 1.0, 'max_depth': 9, 'n_estimators': 5}\n",
      "0.592 (+/-0.027) for {'criterion': 'mse', 'learning_rate': 1.0, 'max_depth': 9, 'n_estimators': 10}\n",
      "0.611 (+/-0.046) for {'criterion': 'mse', 'learning_rate': 1.0, 'max_depth': 9, 'n_estimators': 20}\n",
      "0.615 (+/-0.02) for {'criterion': 'mse', 'learning_rate': 1.0, 'max_depth': 9, 'n_estimators': 30}\n",
      "0.622 (+/-0.029) for {'criterion': 'mse', 'learning_rate': 10, 'max_depth': 3, 'n_estimators': 1}\n",
      "0.509 (+/-0.192) for {'criterion': 'mse', 'learning_rate': 10, 'max_depth': 3, 'n_estimators': 3}\n",
      "0.472 (+/-0.186) for {'criterion': 'mse', 'learning_rate': 10, 'max_depth': 3, 'n_estimators': 5}\n",
      "0.472 (+/-0.186) for {'criterion': 'mse', 'learning_rate': 10, 'max_depth': 3, 'n_estimators': 10}\n",
      "0.472 (+/-0.186) for {'criterion': 'mse', 'learning_rate': 10, 'max_depth': 3, 'n_estimators': 20}\n",
      "0.472 (+/-0.186) for {'criterion': 'mse', 'learning_rate': 10, 'max_depth': 3, 'n_estimators': 30}\n",
      "0.626 (+/-0.028) for {'criterion': 'mse', 'learning_rate': 10, 'max_depth': 6, 'n_estimators': 1}\n",
      "0.573 (+/-0.062) for {'criterion': 'mse', 'learning_rate': 10, 'max_depth': 6, 'n_estimators': 3}\n",
      "0.503 (+/-0.107) for {'criterion': 'mse', 'learning_rate': 10, 'max_depth': 6, 'n_estimators': 5}\n",
      "0.5 (+/-0.099) for {'criterion': 'mse', 'learning_rate': 10, 'max_depth': 6, 'n_estimators': 10}\n",
      "0.526 (+/-0.098) for {'criterion': 'mse', 'learning_rate': 10, 'max_depth': 6, 'n_estimators': 20}\n",
      "0.49 (+/-0.106) for {'criterion': 'mse', 'learning_rate': 10, 'max_depth': 6, 'n_estimators': 30}\n",
      "0.616 (+/-0.032) for {'criterion': 'mse', 'learning_rate': 10, 'max_depth': 9, 'n_estimators': 1}\n",
      "0.567 (+/-0.063) for {'criterion': 'mse', 'learning_rate': 10, 'max_depth': 9, 'n_estimators': 3}\n",
      "0.514 (+/-0.069) for {'criterion': 'mse', 'learning_rate': 10, 'max_depth': 9, 'n_estimators': 5}\n",
      "0.487 (+/-0.024) for {'criterion': 'mse', 'learning_rate': 10, 'max_depth': 9, 'n_estimators': 10}\n",
      "0.515 (+/-0.064) for {'criterion': 'mse', 'learning_rate': 10, 'max_depth': 9, 'n_estimators': 20}\n",
      "0.524 (+/-0.051) for {'criterion': 'mse', 'learning_rate': 10, 'max_depth': 9, 'n_estimators': 30}\n",
      "0.605 (+/-0.001) for {'criterion': 'mae', 'learning_rate': 0.001, 'max_depth': 3, 'n_estimators': 1}\n",
      "0.605 (+/-0.001) for {'criterion': 'mae', 'learning_rate': 0.001, 'max_depth': 3, 'n_estimators': 3}\n",
      "0.605 (+/-0.001) for {'criterion': 'mae', 'learning_rate': 0.001, 'max_depth': 3, 'n_estimators': 5}\n",
      "0.605 (+/-0.001) for {'criterion': 'mae', 'learning_rate': 0.001, 'max_depth': 3, 'n_estimators': 10}\n",
      "0.605 (+/-0.001) for {'criterion': 'mae', 'learning_rate': 0.001, 'max_depth': 3, 'n_estimators': 20}\n",
      "0.605 (+/-0.001) for {'criterion': 'mae', 'learning_rate': 0.001, 'max_depth': 3, 'n_estimators': 30}\n",
      "0.605 (+/-0.001) for {'criterion': 'mae', 'learning_rate': 0.001, 'max_depth': 6, 'n_estimators': 1}\n",
      "0.605 (+/-0.001) for {'criterion': 'mae', 'learning_rate': 0.001, 'max_depth': 6, 'n_estimators': 3}\n",
      "0.605 (+/-0.001) for {'criterion': 'mae', 'learning_rate': 0.001, 'max_depth': 6, 'n_estimators': 5}\n",
      "0.605 (+/-0.001) for {'criterion': 'mae', 'learning_rate': 0.001, 'max_depth': 6, 'n_estimators': 10}\n",
      "0.605 (+/-0.001) for {'criterion': 'mae', 'learning_rate': 0.001, 'max_depth': 6, 'n_estimators': 20}\n",
      "0.605 (+/-0.001) for {'criterion': 'mae', 'learning_rate': 0.001, 'max_depth': 6, 'n_estimators': 30}\n",
      "0.605 (+/-0.001) for {'criterion': 'mae', 'learning_rate': 0.001, 'max_depth': 9, 'n_estimators': 1}\n",
      "0.605 (+/-0.001) for {'criterion': 'mae', 'learning_rate': 0.001, 'max_depth': 9, 'n_estimators': 3}\n",
      "0.605 (+/-0.001) for {'criterion': 'mae', 'learning_rate': 0.001, 'max_depth': 9, 'n_estimators': 5}\n",
      "0.605 (+/-0.001) for {'criterion': 'mae', 'learning_rate': 0.001, 'max_depth': 9, 'n_estimators': 10}\n",
      "0.605 (+/-0.001) for {'criterion': 'mae', 'learning_rate': 0.001, 'max_depth': 9, 'n_estimators': 20}\n",
      "0.605 (+/-0.001) for {'criterion': 'mae', 'learning_rate': 0.001, 'max_depth': 9, 'n_estimators': 30}\n",
      "0.605 (+/-0.001) for {'criterion': 'mae', 'learning_rate': 0.01, 'max_depth': 3, 'n_estimators': 1}\n",
      "0.605 (+/-0.001) for {'criterion': 'mae', 'learning_rate': 0.01, 'max_depth': 3, 'n_estimators': 3}\n",
      "0.605 (+/-0.001) for {'criterion': 'mae', 'learning_rate': 0.01, 'max_depth': 3, 'n_estimators': 5}\n",
      "0.605 (+/-0.001) for {'criterion': 'mae', 'learning_rate': 0.01, 'max_depth': 3, 'n_estimators': 10}\n",
      "0.606 (+/-0.002) for {'criterion': 'mae', 'learning_rate': 0.01, 'max_depth': 3, 'n_estimators': 20}\n",
      "0.611 (+/-0.015) for {'criterion': 'mae', 'learning_rate': 0.01, 'max_depth': 3, 'n_estimators': 30}\n",
      "0.605 (+/-0.001) for {'criterion': 'mae', 'learning_rate': 0.01, 'max_depth': 6, 'n_estimators': 1}\n",
      "0.605 (+/-0.001) for {'criterion': 'mae', 'learning_rate': 0.01, 'max_depth': 6, 'n_estimators': 3}\n",
      "0.605 (+/-0.001) for {'criterion': 'mae', 'learning_rate': 0.01, 'max_depth': 6, 'n_estimators': 5}\n",
      "0.605 (+/-0.001) for {'criterion': 'mae', 'learning_rate': 0.01, 'max_depth': 6, 'n_estimators': 10}\n",
      "0.606 (+/-0.011) for {'criterion': 'mae', 'learning_rate': 0.01, 'max_depth': 6, 'n_estimators': 20}\n",
      "0.624 (+/-0.007) for {'criterion': 'mae', 'learning_rate': 0.01, 'max_depth': 6, 'n_estimators': 30}\n",
      "0.605 (+/-0.001) for {'criterion': 'mae', 'learning_rate': 0.01, 'max_depth': 9, 'n_estimators': 1}\n",
      "0.605 (+/-0.001) for {'criterion': 'mae', 'learning_rate': 0.01, 'max_depth': 9, 'n_estimators': 3}\n",
      "0.605 (+/-0.001) for {'criterion': 'mae', 'learning_rate': 0.01, 'max_depth': 9, 'n_estimators': 5}\n",
      "0.605 (+/-0.001) for {'criterion': 'mae', 'learning_rate': 0.01, 'max_depth': 9, 'n_estimators': 10}\n",
      "0.61 (+/-0.015) for {'criterion': 'mae', 'learning_rate': 0.01, 'max_depth': 9, 'n_estimators': 20}\n",
      "0.623 (+/-0.005) for {'criterion': 'mae', 'learning_rate': 0.01, 'max_depth': 9, 'n_estimators': 30}\n",
      "0.605 (+/-0.001) for {'criterion': 'mae', 'learning_rate': 0.1, 'max_depth': 3, 'n_estimators': 1}\n",
      "0.613 (+/-0.013) for {'criterion': 'mae', 'learning_rate': 0.1, 'max_depth': 3, 'n_estimators': 3}\n",
      "0.622 (+/-0.008) for {'criterion': 'mae', 'learning_rate': 0.1, 'max_depth': 3, 'n_estimators': 5}\n",
      "0.625 (+/-0.011) for {'criterion': 'mae', 'learning_rate': 0.1, 'max_depth': 3, 'n_estimators': 10}\n",
      "0.625 (+/-0.011) for {'criterion': 'mae', 'learning_rate': 0.1, 'max_depth': 3, 'n_estimators': 20}\n",
      "0.625 (+/-0.011) for {'criterion': 'mae', 'learning_rate': 0.1, 'max_depth': 3, 'n_estimators': 30}\n",
      "0.605 (+/-0.001) for {'criterion': 'mae', 'learning_rate': 0.1, 'max_depth': 6, 'n_estimators': 1}\n",
      "0.625 (+/-0.02) for {'criterion': 'mae', 'learning_rate': 0.1, 'max_depth': 6, 'n_estimators': 3}\n",
      "0.621 (+/-0.013) for {'criterion': 'mae', 'learning_rate': 0.1, 'max_depth': 6, 'n_estimators': 5}\n",
      "0.624 (+/-0.02) for {'criterion': 'mae', 'learning_rate': 0.1, 'max_depth': 6, 'n_estimators': 10}\n",
      "0.619 (+/-0.025) for {'criterion': 'mae', 'learning_rate': 0.1, 'max_depth': 6, 'n_estimators': 20}\n",
      "0.621 (+/-0.025) for {'criterion': 'mae', 'learning_rate': 0.1, 'max_depth': 6, 'n_estimators': 30}\n",
      "0.605 (+/-0.001) for {'criterion': 'mae', 'learning_rate': 0.1, 'max_depth': 9, 'n_estimators': 1}\n",
      "0.621 (+/-0.007) for {'criterion': 'mae', 'learning_rate': 0.1, 'max_depth': 9, 'n_estimators': 3}\n",
      "0.621 (+/-0.014) for {'criterion': 'mae', 'learning_rate': 0.1, 'max_depth': 9, 'n_estimators': 5}\n",
      "0.624 (+/-0.018) for {'criterion': 'mae', 'learning_rate': 0.1, 'max_depth': 9, 'n_estimators': 10}\n",
      "0.62 (+/-0.024) for {'criterion': 'mae', 'learning_rate': 0.1, 'max_depth': 9, 'n_estimators': 20}\n",
      "0.621 (+/-0.021) for {'criterion': 'mae', 'learning_rate': 0.1, 'max_depth': 9, 'n_estimators': 30}\n",
      "0.623 (+/-0.013) for {'criterion': 'mae', 'learning_rate': 1.0, 'max_depth': 3, 'n_estimators': 1}\n",
      "0.623 (+/-0.014) for {'criterion': 'mae', 'learning_rate': 1.0, 'max_depth': 3, 'n_estimators': 3}\n",
      "0.625 (+/-0.015) for {'criterion': 'mae', 'learning_rate': 1.0, 'max_depth': 3, 'n_estimators': 5}\n",
      "0.624 (+/-0.015) for {'criterion': 'mae', 'learning_rate': 1.0, 'max_depth': 3, 'n_estimators': 10}\n",
      "0.624 (+/-0.015) for {'criterion': 'mae', 'learning_rate': 1.0, 'max_depth': 3, 'n_estimators': 20}\n",
      "0.625 (+/-0.017) for {'criterion': 'mae', 'learning_rate': 1.0, 'max_depth': 3, 'n_estimators': 30}\n",
      "0.621 (+/-0.024) for {'criterion': 'mae', 'learning_rate': 1.0, 'max_depth': 6, 'n_estimators': 1}\n",
      "0.613 (+/-0.022) for {'criterion': 'mae', 'learning_rate': 1.0, 'max_depth': 6, 'n_estimators': 3}\n",
      "0.616 (+/-0.019) for {'criterion': 'mae', 'learning_rate': 1.0, 'max_depth': 6, 'n_estimators': 5}\n",
      "0.617 (+/-0.017) for {'criterion': 'mae', 'learning_rate': 1.0, 'max_depth': 6, 'n_estimators': 10}\n",
      "0.616 (+/-0.025) for {'criterion': 'mae', 'learning_rate': 1.0, 'max_depth': 6, 'n_estimators': 20}\n",
      "0.618 (+/-0.029) for {'criterion': 'mae', 'learning_rate': 1.0, 'max_depth': 6, 'n_estimators': 30}\n",
      "0.618 (+/-0.019) for {'criterion': 'mae', 'learning_rate': 1.0, 'max_depth': 9, 'n_estimators': 1}\n",
      "0.616 (+/-0.019) for {'criterion': 'mae', 'learning_rate': 1.0, 'max_depth': 9, 'n_estimators': 3}\n",
      "0.612 (+/-0.02) for {'criterion': 'mae', 'learning_rate': 1.0, 'max_depth': 9, 'n_estimators': 5}\n",
      "0.613 (+/-0.035) for {'criterion': 'mae', 'learning_rate': 1.0, 'max_depth': 9, 'n_estimators': 10}\n",
      "0.619 (+/-0.035) for {'criterion': 'mae', 'learning_rate': 1.0, 'max_depth': 9, 'n_estimators': 20}\n",
      "0.611 (+/-0.017) for {'criterion': 'mae', 'learning_rate': 1.0, 'max_depth': 9, 'n_estimators': 30}\n",
      "0.623 (+/-0.013) for {'criterion': 'mae', 'learning_rate': 10, 'max_depth': 3, 'n_estimators': 1}\n",
      "0.603 (+/-0.013) for {'criterion': 'mae', 'learning_rate': 10, 'max_depth': 3, 'n_estimators': 3}\n",
      "0.513 (+/-0.227) for {'criterion': 'mae', 'learning_rate': 10, 'max_depth': 3, 'n_estimators': 5}\n",
      "0.515 (+/-0.224) for {'criterion': 'mae', 'learning_rate': 10, 'max_depth': 3, 'n_estimators': 10}\n",
      "0.515 (+/-0.225) for {'criterion': 'mae', 'learning_rate': 10, 'max_depth': 3, 'n_estimators': 20}\n",
      "0.515 (+/-0.224) for {'criterion': 'mae', 'learning_rate': 10, 'max_depth': 3, 'n_estimators': 30}\n",
      "0.618 (+/-0.025) for {'criterion': 'mae', 'learning_rate': 10, 'max_depth': 6, 'n_estimators': 1}\n",
      "0.597 (+/-0.024) for {'criterion': 'mae', 'learning_rate': 10, 'max_depth': 6, 'n_estimators': 3}\n",
      "0.465 (+/-0.203) for {'criterion': 'mae', 'learning_rate': 10, 'max_depth': 6, 'n_estimators': 5}\n",
      "0.472 (+/-0.231) for {'criterion': 'mae', 'learning_rate': 10, 'max_depth': 6, 'n_estimators': 10}\n",
      "0.387 (+/-0.022) for {'criterion': 'mae', 'learning_rate': 10, 'max_depth': 6, 'n_estimators': 20}\n",
      "0.386 (+/-0.022) for {'criterion': 'mae', 'learning_rate': 10, 'max_depth': 6, 'n_estimators': 30}\n",
      "0.616 (+/-0.016) for {'criterion': 'mae', 'learning_rate': 10, 'max_depth': 9, 'n_estimators': 1}\n",
      "0.553 (+/-0.169) for {'criterion': 'mae', 'learning_rate': 10, 'max_depth': 9, 'n_estimators': 3}\n",
      "0.43 (+/-0.143) for {'criterion': 'mae', 'learning_rate': 10, 'max_depth': 9, 'n_estimators': 5}\n",
      "0.434 (+/-0.149) for {'criterion': 'mae', 'learning_rate': 10, 'max_depth': 9, 'n_estimators': 10}\n",
      "0.39 (+/-0.015) for {'criterion': 'mae', 'learning_rate': 10, 'max_depth': 9, 'n_estimators': 20}\n",
      "0.394 (+/-0.009) for {'criterion': 'mae', 'learning_rate': 10, 'max_depth': 9, 'n_estimators': 30}\n"
     ]
    }
   ],
   "source": [
    "params = {'criterion':['friedman_mse','mse','mae'],\n",
    "         'learning_rate':[0.001,0.01,0.1,1.0,10],\n",
    "         'max_depth':[3,6,9],\n",
    "         'n_estimators':[1,3,5,10,20,30]}\n",
    "\n",
    "ggb = GridSearchCV(gb, params, cv = 5)\n",
    "print_results(ggb.fit(training, y_train))"
   ]
  },
  {
   "cell_type": "code",
   "execution_count": 28,
   "metadata": {},
   "outputs": [
    {
     "data": {
      "text/plain": [
       "['./waterpotability_GB.pkl']"
      ]
     },
     "execution_count": 28,
     "metadata": {},
     "output_type": "execute_result"
    }
   ],
   "source": [
    "joblib.dump(ggb.best_estimator_,'./waterpotability_GB.pkl')"
   ]
  },
  {
   "cell_type": "markdown",
   "metadata": {
    "collapsed": true
   },
   "source": [
    "# Training KNearest Neighbor"
   ]
  },
  {
   "cell_type": "code",
   "execution_count": 29,
   "metadata": {
    "collapsed": true
   },
   "outputs": [],
   "source": [
    "knn = KNeighborsClassifier()\n",
    "params = {'algorithm':['auto', 'ball_tree', 'kd_tree', 'brute'],\n",
    "         'n_neighbors':[10,20,25,30,35,40,45,50],\n",
    "          'leaf_size':[35,40,45,50,55,60],\n",
    "         'weights':['uniform','distance']}\n",
    "\n",
    "gknn = GridSearchCV(knn,params, cv = 5)\n",
    "print_results(gknn.fit(training, y_train))"
   ]
  },
  {
   "cell_type": "code",
   "execution_count": 34,
   "metadata": {},
   "outputs": [
    {
     "data": {
      "text/plain": [
       "['./waterpotability_KNN.pkl']"
      ]
     },
     "execution_count": 34,
     "metadata": {},
     "output_type": "execute_result"
    }
   ],
   "source": [
    "joblib.dump(gknn.best_estimator_,'./waterpotability_KNN.pkl')"
   ]
  },
  {
   "cell_type": "markdown",
   "metadata": {
    "collapsed": true
   },
   "source": [
    "# Testing"
   ]
  },
  {
   "cell_type": "code",
   "execution_count": 12,
   "metadata": {},
   "outputs": [
    {
     "name": "stdout",
     "output_type": "stream",
     "text": [
      "Acuracy : 0.6280487804878049, Recall: 0.6280487804878049, Precision_score: 0.6280487804878049\n",
      "Acuracy : 0.6692073170731707, Recall: 0.6692073170731707, Precision_score: 0.6692073170731707\n",
      "Acuracy : 0.6814024390243902, Recall: 0.6814024390243902, Precision_score: 0.6814024390243902\n",
      "Acuracy : 0.6951219512195121, Recall: 0.6951219512195121, Precision_score: 0.6951219512195121\n",
      "Acuracy : 0.6844512195121951, Recall: 0.6844512195121951, Precision_score: 0.6844512195121951\n",
      "Acuracy : 0.6615853658536586, Recall: 0.6615853658536586, Precision_score: 0.6615853658536586\n"
     ]
    }
   ],
   "source": [
    "def results(model, labels, predictors):\n",
    "    #caling/loafding the model\n",
    "    model = joblib.load('./'+model)\n",
    "    predictions = model.predict(predictors)\n",
    "    \n",
    "    accu = accuracy_score(labels, predictions)\n",
    "    recall = recall_score(labels, predictions, average='micro')\n",
    "    precision = precision_score(labels,predictions, average='micro')\n",
    "    print('Acuracy : {}, Recall: {}, Precision_score: {}'.format(accu,recall,precision))\n",
    "\n",
    "models = ['waterpotability_LR.pkl','waterpotability_RF.pkl','waterpotability_MLP.pkl','waterpotability_SVC.pkl',\\\n",
    "          'waterpotability_GB.pkl','waterpotability_KNN.pkl']\n",
    "for m in models:\n",
    "    results(m,y_test, testing)"
   ]
  },
  {
   "cell_type": "code",
   "execution_count": null,
   "metadata": {
    "collapsed": true
   },
   "outputs": [],
   "source": []
  },
  {
   "cell_type": "code",
   "execution_count": null,
   "metadata": {
    "collapsed": true
   },
   "outputs": [],
   "source": []
  }
 ],
 "metadata": {
  "kernelspec": {
   "display_name": "Python3.6.5_Spark2.3.0",
   "language": "python",
   "name": "py365_spark230"
  },
  "language_info": {
   "codemirror_mode": {
    "name": "ipython",
    "version": 3
   },
   "file_extension": ".py",
   "mimetype": "text/x-python",
   "name": "python",
   "nbconvert_exporter": "python",
   "pygments_lexer": "ipython3",
   "version": "3.6.5"
  }
 },
 "nbformat": 4,
 "nbformat_minor": 2
}
